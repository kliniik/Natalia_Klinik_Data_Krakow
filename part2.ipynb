{
 "cells": [
  {
   "cell_type": "markdown",
   "id": "6c3f1264",
   "metadata": {},
   "source": [
    "## Part 2. Data analysis and visualisation"
   ]
  },
  {
   "cell_type": "markdown",
   "id": "45284f7e",
   "metadata": {},
   "source": [
    "Create a report in which you will include charts and briefly present your line of thinking. Write down assumptions you made, describe your methodology, e.g. how you filtered data etc. The report should be easy to understand for non-technical people. Name your report name_surname_analysis.pdf and include it as part of your final solution."
   ]
  },
  {
   "cell_type": "markdown",
   "id": "1bd56e4a",
   "metadata": {},
   "source": [
    "### Load data from the database"
   ]
  },
  {
   "cell_type": "markdown",
   "id": "bd830b49",
   "metadata": {},
   "source": [
    "The first step to perform this task would be to generate csv files from the data in our database. In order not to share potentially sensitive data (as passwords), I created the *.env* file that contains the data allowing us to acces the *droptime* database. \n",
    "\n",
    "I load the data using the *mysql.connector* and save all the tables as separate csv files."
   ]
  },
  {
   "cell_type": "code",
   "execution_count": 131,
   "id": "15d95681",
   "metadata": {},
   "outputs": [
    {
     "name": "stdout",
     "output_type": "stream",
     "text": [
      "File orders.csv saved successfully.\n",
      "File products.csv saved successfully.\n",
      "File orders_products.csv saved successfully.\n",
      "File route_segments.csv saved successfully.\n"
     ]
    },
    {
     "name": "stderr",
     "output_type": "stream",
     "text": [
      "C:\\Users\\48726\\AppData\\Local\\Temp\\ipykernel_25932\\781201810.py:23: UserWarning: pandas only supports SQLAlchemy connectable (engine/connection) or database string URI or sqlite3 DBAPI2 connection. Other DBAPI2 objects are not tested. Please consider using SQLAlchemy.\n",
      "  df = pd.read_sql(f\"SELECT * FROM {table}\", conn)\n"
     ]
    }
   ],
   "source": [
    "import mysql.connector\n",
    "from dotenv import load_dotenv\n",
    "import os\n",
    "import pandas as pd\n",
    "\n",
    "load_dotenv('.env')\n",
    "\n",
    "host = os.getenv(\"DB_HOST\")\n",
    "user = os.getenv(\"DB_USER\")\n",
    "password = os.getenv(\"DB_PASSWORD\")\n",
    "database = os.getenv(\"DB_NAME\")\n",
    "\n",
    "conn = mysql.connector.connect(\n",
    "    host=host,\n",
    "    user=user,\n",
    "    password=password,\n",
    "    database=database\n",
    ")\n",
    "\n",
    "tables = ['orders', 'products', 'orders_products', 'route_segments']\n",
    "\n",
    "for table in tables:\n",
    "    df = pd.read_sql(f\"SELECT * FROM {table}\", conn)\n",
    "    df.to_csv(f\"{table}.csv\", index=False)\n",
    "    print(f\"File {table}.csv saved successfully.\")\n",
    "\n",
    "conn.close()"
   ]
  },
  {
   "cell_type": "markdown",
   "id": "e48e5390",
   "metadata": {},
   "source": [
    "I load the data and save it to separate DataFrames."
   ]
  },
  {
   "cell_type": "code",
   "execution_count": 132,
   "id": "e327da92",
   "metadata": {},
   "outputs": [],
   "source": [
    "import pandas as pd\n",
    "\n",
    "df_orders = pd.read_csv('orders.csv')\n",
    "df_products = pd.read_csv('products.csv')\n",
    "df_orders_products = pd.read_csv('orders_products.csv')\n",
    "df_route_segments = pd.read_csv('route_segments.csv')"
   ]
  },
  {
   "cell_type": "markdown",
   "id": "a5388988",
   "metadata": {},
   "source": [
    "I check the data structure by printing samples from all DataFrames."
   ]
  },
  {
   "cell_type": "code",
   "execution_count": 133,
   "id": "20a86909",
   "metadata": {},
   "outputs": [
    {
     "data": {
      "text/html": [
       "<div>\n",
       "<style scoped>\n",
       "    .dataframe tbody tr th:only-of-type {\n",
       "        vertical-align: middle;\n",
       "    }\n",
       "\n",
       "    .dataframe tbody tr th {\n",
       "        vertical-align: top;\n",
       "    }\n",
       "\n",
       "    .dataframe thead th {\n",
       "        text-align: right;\n",
       "    }\n",
       "</style>\n",
       "<table border=\"1\" class=\"dataframe\">\n",
       "  <thead>\n",
       "    <tr style=\"text-align: right;\">\n",
       "      <th></th>\n",
       "      <th>order_id</th>\n",
       "      <th>customer_id</th>\n",
       "      <th>sector_id</th>\n",
       "      <th>planned_delivery_duration</th>\n",
       "    </tr>\n",
       "  </thead>\n",
       "  <tbody>\n",
       "    <tr>\n",
       "      <th>0</th>\n",
       "      <td>0</td>\n",
       "      <td>116</td>\n",
       "      <td>1</td>\n",
       "      <td>176</td>\n",
       "    </tr>\n",
       "    <tr>\n",
       "      <th>1</th>\n",
       "      <td>1</td>\n",
       "      <td>160</td>\n",
       "      <td>1</td>\n",
       "      <td>169</td>\n",
       "    </tr>\n",
       "    <tr>\n",
       "      <th>2</th>\n",
       "      <td>2</td>\n",
       "      <td>94</td>\n",
       "      <td>2</td>\n",
       "      <td>177</td>\n",
       "    </tr>\n",
       "    <tr>\n",
       "      <th>3</th>\n",
       "      <td>3</td>\n",
       "      <td>165</td>\n",
       "      <td>3</td>\n",
       "      <td>176</td>\n",
       "    </tr>\n",
       "    <tr>\n",
       "      <th>4</th>\n",
       "      <td>4</td>\n",
       "      <td>78</td>\n",
       "      <td>2</td>\n",
       "      <td>177</td>\n",
       "    </tr>\n",
       "    <tr>\n",
       "      <th>...</th>\n",
       "      <td>...</td>\n",
       "      <td>...</td>\n",
       "      <td>...</td>\n",
       "      <td>...</td>\n",
       "    </tr>\n",
       "    <tr>\n",
       "      <th>2235</th>\n",
       "      <td>2235</td>\n",
       "      <td>295</td>\n",
       "      <td>3</td>\n",
       "      <td>175</td>\n",
       "    </tr>\n",
       "    <tr>\n",
       "      <th>2236</th>\n",
       "      <td>2236</td>\n",
       "      <td>88</td>\n",
       "      <td>1</td>\n",
       "      <td>178</td>\n",
       "    </tr>\n",
       "    <tr>\n",
       "      <th>2237</th>\n",
       "      <td>2237</td>\n",
       "      <td>99</td>\n",
       "      <td>2</td>\n",
       "      <td>177</td>\n",
       "    </tr>\n",
       "    <tr>\n",
       "      <th>2238</th>\n",
       "      <td>2238</td>\n",
       "      <td>84</td>\n",
       "      <td>1</td>\n",
       "      <td>176</td>\n",
       "    </tr>\n",
       "    <tr>\n",
       "      <th>2239</th>\n",
       "      <td>2239</td>\n",
       "      <td>7</td>\n",
       "      <td>1</td>\n",
       "      <td>169</td>\n",
       "    </tr>\n",
       "  </tbody>\n",
       "</table>\n",
       "<p>2240 rows × 4 columns</p>\n",
       "</div>"
      ],
      "text/plain": [
       "      order_id  customer_id  sector_id  planned_delivery_duration\n",
       "0            0          116          1                        176\n",
       "1            1          160          1                        169\n",
       "2            2           94          2                        177\n",
       "3            3          165          3                        176\n",
       "4            4           78          2                        177\n",
       "...        ...          ...        ...                        ...\n",
       "2235      2235          295          3                        175\n",
       "2236      2236           88          1                        178\n",
       "2237      2237           99          2                        177\n",
       "2238      2238           84          1                        176\n",
       "2239      2239            7          1                        169\n",
       "\n",
       "[2240 rows x 4 columns]"
      ]
     },
     "execution_count": 133,
     "metadata": {},
     "output_type": "execute_result"
    }
   ],
   "source": [
    "df_orders"
   ]
  },
  {
   "cell_type": "code",
   "execution_count": 134,
   "id": "40c57613",
   "metadata": {},
   "outputs": [
    {
     "data": {
      "text/html": [
       "<div>\n",
       "<style scoped>\n",
       "    .dataframe tbody tr th:only-of-type {\n",
       "        vertical-align: middle;\n",
       "    }\n",
       "\n",
       "    .dataframe tbody tr th {\n",
       "        vertical-align: top;\n",
       "    }\n",
       "\n",
       "    .dataframe thead th {\n",
       "        text-align: right;\n",
       "    }\n",
       "</style>\n",
       "<table border=\"1\" class=\"dataframe\">\n",
       "  <thead>\n",
       "    <tr style=\"text-align: right;\">\n",
       "      <th></th>\n",
       "      <th>order_id</th>\n",
       "      <th>product_id</th>\n",
       "      <th>quantity</th>\n",
       "    </tr>\n",
       "  </thead>\n",
       "  <tbody>\n",
       "    <tr>\n",
       "      <th>0</th>\n",
       "      <td>0</td>\n",
       "      <td>5</td>\n",
       "      <td>2</td>\n",
       "    </tr>\n",
       "    <tr>\n",
       "      <th>1</th>\n",
       "      <td>0</td>\n",
       "      <td>70</td>\n",
       "      <td>2</td>\n",
       "    </tr>\n",
       "    <tr>\n",
       "      <th>2</th>\n",
       "      <td>0</td>\n",
       "      <td>84</td>\n",
       "      <td>1</td>\n",
       "    </tr>\n",
       "    <tr>\n",
       "      <th>3</th>\n",
       "      <td>1</td>\n",
       "      <td>20</td>\n",
       "      <td>3</td>\n",
       "    </tr>\n",
       "    <tr>\n",
       "      <th>4</th>\n",
       "      <td>2</td>\n",
       "      <td>17</td>\n",
       "      <td>3</td>\n",
       "    </tr>\n",
       "    <tr>\n",
       "      <th>...</th>\n",
       "      <td>...</td>\n",
       "      <td>...</td>\n",
       "      <td>...</td>\n",
       "    </tr>\n",
       "    <tr>\n",
       "      <th>6734</th>\n",
       "      <td>2239</td>\n",
       "      <td>22</td>\n",
       "      <td>1</td>\n",
       "    </tr>\n",
       "    <tr>\n",
       "      <th>6735</th>\n",
       "      <td>2239</td>\n",
       "      <td>47</td>\n",
       "      <td>1</td>\n",
       "    </tr>\n",
       "    <tr>\n",
       "      <th>6736</th>\n",
       "      <td>2239</td>\n",
       "      <td>48</td>\n",
       "      <td>3</td>\n",
       "    </tr>\n",
       "    <tr>\n",
       "      <th>6737</th>\n",
       "      <td>2239</td>\n",
       "      <td>52</td>\n",
       "      <td>1</td>\n",
       "    </tr>\n",
       "    <tr>\n",
       "      <th>6738</th>\n",
       "      <td>2239</td>\n",
       "      <td>61</td>\n",
       "      <td>3</td>\n",
       "    </tr>\n",
       "  </tbody>\n",
       "</table>\n",
       "<p>6739 rows × 3 columns</p>\n",
       "</div>"
      ],
      "text/plain": [
       "      order_id  product_id  quantity\n",
       "0            0           5         2\n",
       "1            0          70         2\n",
       "2            0          84         1\n",
       "3            1          20         3\n",
       "4            2          17         3\n",
       "...        ...         ...       ...\n",
       "6734      2239          22         1\n",
       "6735      2239          47         1\n",
       "6736      2239          48         3\n",
       "6737      2239          52         1\n",
       "6738      2239          61         3\n",
       "\n",
       "[6739 rows x 3 columns]"
      ]
     },
     "execution_count": 134,
     "metadata": {},
     "output_type": "execute_result"
    }
   ],
   "source": [
    "df_orders_products"
   ]
  },
  {
   "cell_type": "code",
   "execution_count": 135,
   "id": "9455e003",
   "metadata": {},
   "outputs": [
    {
     "data": {
      "text/html": [
       "<div>\n",
       "<style scoped>\n",
       "    .dataframe tbody tr th:only-of-type {\n",
       "        vertical-align: middle;\n",
       "    }\n",
       "\n",
       "    .dataframe tbody tr th {\n",
       "        vertical-align: top;\n",
       "    }\n",
       "\n",
       "    .dataframe thead th {\n",
       "        text-align: right;\n",
       "    }\n",
       "</style>\n",
       "<table border=\"1\" class=\"dataframe\">\n",
       "  <thead>\n",
       "    <tr style=\"text-align: right;\">\n",
       "      <th></th>\n",
       "      <th>product_id</th>\n",
       "      <th>weight</th>\n",
       "    </tr>\n",
       "  </thead>\n",
       "  <tbody>\n",
       "    <tr>\n",
       "      <th>0</th>\n",
       "      <td>0</td>\n",
       "      <td>928</td>\n",
       "    </tr>\n",
       "    <tr>\n",
       "      <th>1</th>\n",
       "      <td>1</td>\n",
       "      <td>1533</td>\n",
       "    </tr>\n",
       "    <tr>\n",
       "      <th>2</th>\n",
       "      <td>2</td>\n",
       "      <td>833</td>\n",
       "    </tr>\n",
       "    <tr>\n",
       "      <th>3</th>\n",
       "      <td>3</td>\n",
       "      <td>1120</td>\n",
       "    </tr>\n",
       "    <tr>\n",
       "      <th>4</th>\n",
       "      <td>4</td>\n",
       "      <td>610</td>\n",
       "    </tr>\n",
       "    <tr>\n",
       "      <th>...</th>\n",
       "      <td>...</td>\n",
       "      <td>...</td>\n",
       "    </tr>\n",
       "    <tr>\n",
       "      <th>95</th>\n",
       "      <td>95</td>\n",
       "      <td>1491</td>\n",
       "    </tr>\n",
       "    <tr>\n",
       "      <th>96</th>\n",
       "      <td>96</td>\n",
       "      <td>464</td>\n",
       "    </tr>\n",
       "    <tr>\n",
       "      <th>97</th>\n",
       "      <td>97</td>\n",
       "      <td>761</td>\n",
       "    </tr>\n",
       "    <tr>\n",
       "      <th>98</th>\n",
       "      <td>98</td>\n",
       "      <td>1184</td>\n",
       "    </tr>\n",
       "    <tr>\n",
       "      <th>99</th>\n",
       "      <td>99</td>\n",
       "      <td>1557</td>\n",
       "    </tr>\n",
       "  </tbody>\n",
       "</table>\n",
       "<p>100 rows × 2 columns</p>\n",
       "</div>"
      ],
      "text/plain": [
       "    product_id  weight\n",
       "0            0     928\n",
       "1            1    1533\n",
       "2            2     833\n",
       "3            3    1120\n",
       "4            4     610\n",
       "..         ...     ...\n",
       "95          95    1491\n",
       "96          96     464\n",
       "97          97     761\n",
       "98          98    1184\n",
       "99          99    1557\n",
       "\n",
       "[100 rows x 2 columns]"
      ]
     },
     "execution_count": 135,
     "metadata": {},
     "output_type": "execute_result"
    }
   ],
   "source": [
    "df_products"
   ]
  },
  {
   "cell_type": "code",
   "execution_count": 136,
   "id": "a5b09abf",
   "metadata": {},
   "outputs": [
    {
     "data": {
      "text/html": [
       "<div>\n",
       "<style scoped>\n",
       "    .dataframe tbody tr th:only-of-type {\n",
       "        vertical-align: middle;\n",
       "    }\n",
       "\n",
       "    .dataframe tbody tr th {\n",
       "        vertical-align: top;\n",
       "    }\n",
       "\n",
       "    .dataframe thead th {\n",
       "        text-align: right;\n",
       "    }\n",
       "</style>\n",
       "<table border=\"1\" class=\"dataframe\">\n",
       "  <thead>\n",
       "    <tr style=\"text-align: right;\">\n",
       "      <th></th>\n",
       "      <th>segment_id</th>\n",
       "      <th>driver_id</th>\n",
       "      <th>segment_type</th>\n",
       "      <th>order_id</th>\n",
       "      <th>segment_start_time</th>\n",
       "      <th>segment_end_time</th>\n",
       "    </tr>\n",
       "  </thead>\n",
       "  <tbody>\n",
       "    <tr>\n",
       "      <th>0</th>\n",
       "      <td>0</td>\n",
       "      <td>4</td>\n",
       "      <td>STOP</td>\n",
       "      <td>1312.0</td>\n",
       "      <td>2024-02-09 14:58:42</td>\n",
       "      <td>2024-02-09 15:01:56</td>\n",
       "    </tr>\n",
       "    <tr>\n",
       "      <th>1</th>\n",
       "      <td>1</td>\n",
       "      <td>4</td>\n",
       "      <td>DRIVE</td>\n",
       "      <td>NaN</td>\n",
       "      <td>2024-02-09 14:51:20</td>\n",
       "      <td>2024-02-09 14:55:42</td>\n",
       "    </tr>\n",
       "    <tr>\n",
       "      <th>2</th>\n",
       "      <td>2</td>\n",
       "      <td>4</td>\n",
       "      <td>STOP</td>\n",
       "      <td>1273.0</td>\n",
       "      <td>2024-02-24 09:26:31</td>\n",
       "      <td>2024-02-24 09:32:12</td>\n",
       "    </tr>\n",
       "    <tr>\n",
       "      <th>3</th>\n",
       "      <td>3</td>\n",
       "      <td>4</td>\n",
       "      <td>DRIVE</td>\n",
       "      <td>NaN</td>\n",
       "      <td>2024-02-24 09:15:02</td>\n",
       "      <td>2024-02-24 09:23:31</td>\n",
       "    </tr>\n",
       "    <tr>\n",
       "      <th>4</th>\n",
       "      <td>4</td>\n",
       "      <td>1</td>\n",
       "      <td>STOP</td>\n",
       "      <td>1036.0</td>\n",
       "      <td>2024-02-24 20:26:23</td>\n",
       "      <td>2024-02-24 20:26:23</td>\n",
       "    </tr>\n",
       "    <tr>\n",
       "      <th>...</th>\n",
       "      <td>...</td>\n",
       "      <td>...</td>\n",
       "      <td>...</td>\n",
       "      <td>...</td>\n",
       "      <td>...</td>\n",
       "      <td>...</td>\n",
       "    </tr>\n",
       "    <tr>\n",
       "      <th>4986</th>\n",
       "      <td>4986</td>\n",
       "      <td>4</td>\n",
       "      <td>STOP</td>\n",
       "      <td>1879.0</td>\n",
       "      <td>2024-02-20 19:16:17</td>\n",
       "      <td>2024-02-20 19:20:57</td>\n",
       "    </tr>\n",
       "    <tr>\n",
       "      <th>4987</th>\n",
       "      <td>4987</td>\n",
       "      <td>4</td>\n",
       "      <td>DRIVE</td>\n",
       "      <td>NaN</td>\n",
       "      <td>2024-02-20 19:07:52</td>\n",
       "      <td>2024-02-20 19:13:17</td>\n",
       "    </tr>\n",
       "    <tr>\n",
       "      <th>4988</th>\n",
       "      <td>4988</td>\n",
       "      <td>2</td>\n",
       "      <td>STOP</td>\n",
       "      <td>2053.0</td>\n",
       "      <td>2024-02-07 20:23:11</td>\n",
       "      <td>2024-02-07 20:25:10</td>\n",
       "    </tr>\n",
       "    <tr>\n",
       "      <th>4989</th>\n",
       "      <td>4989</td>\n",
       "      <td>2</td>\n",
       "      <td>DRIVE</td>\n",
       "      <td>NaN</td>\n",
       "      <td>2024-02-07 20:08:22</td>\n",
       "      <td>2024-02-07 20:20:11</td>\n",
       "    </tr>\n",
       "    <tr>\n",
       "      <th>4990</th>\n",
       "      <td>4990</td>\n",
       "      <td>2</td>\n",
       "      <td>STOP</td>\n",
       "      <td>NaN</td>\n",
       "      <td>2024-02-07 20:02:45</td>\n",
       "      <td>2024-02-07 20:02:45</td>\n",
       "    </tr>\n",
       "  </tbody>\n",
       "</table>\n",
       "<p>4991 rows × 6 columns</p>\n",
       "</div>"
      ],
      "text/plain": [
       "      segment_id  driver_id segment_type  order_id   segment_start_time  \\\n",
       "0              0          4         STOP    1312.0  2024-02-09 14:58:42   \n",
       "1              1          4        DRIVE       NaN  2024-02-09 14:51:20   \n",
       "2              2          4         STOP    1273.0  2024-02-24 09:26:31   \n",
       "3              3          4        DRIVE       NaN  2024-02-24 09:15:02   \n",
       "4              4          1         STOP    1036.0  2024-02-24 20:26:23   \n",
       "...          ...        ...          ...       ...                  ...   \n",
       "4986        4986          4         STOP    1879.0  2024-02-20 19:16:17   \n",
       "4987        4987          4        DRIVE       NaN  2024-02-20 19:07:52   \n",
       "4988        4988          2         STOP    2053.0  2024-02-07 20:23:11   \n",
       "4989        4989          2        DRIVE       NaN  2024-02-07 20:08:22   \n",
       "4990        4990          2         STOP       NaN  2024-02-07 20:02:45   \n",
       "\n",
       "         segment_end_time  \n",
       "0     2024-02-09 15:01:56  \n",
       "1     2024-02-09 14:55:42  \n",
       "2     2024-02-24 09:32:12  \n",
       "3     2024-02-24 09:23:31  \n",
       "4     2024-02-24 20:26:23  \n",
       "...                   ...  \n",
       "4986  2024-02-20 19:20:57  \n",
       "4987  2024-02-20 19:13:17  \n",
       "4988  2024-02-07 20:25:10  \n",
       "4989  2024-02-07 20:20:11  \n",
       "4990  2024-02-07 20:02:45  \n",
       "\n",
       "[4991 rows x 6 columns]"
      ]
     },
     "execution_count": 136,
     "metadata": {},
     "output_type": "execute_result"
    }
   ],
   "source": [
    "df_route_segments"
   ]
  },
  {
   "cell_type": "markdown",
   "id": "8968bebc",
   "metadata": {},
   "source": [
    "### Preparing the data"
   ]
  },
  {
   "cell_type": "markdown",
   "id": "2911758d",
   "metadata": {},
   "source": [
    "The next step would be to find connections between particular DataFrames and merge them accordingly or create new tables basing on those."
   ]
  },
  {
   "cell_type": "markdown",
   "id": "53f7c025",
   "metadata": {},
   "source": [
    "I started by merging the *route_segments* table with the *orders* table. Those two have a common value - *order_id*. Now we can see all the infromation about the order in one, bigger table."
   ]
  },
  {
   "cell_type": "code",
   "execution_count": 137,
   "id": "d83c4189",
   "metadata": {},
   "outputs": [],
   "source": [
    "df_route_segments_orders = pd.merge(df_route_segments, df_orders, on=\"order_id\", how=\"left\")"
   ]
  },
  {
   "cell_type": "code",
   "execution_count": 138,
   "id": "2107f423",
   "metadata": {},
   "outputs": [
    {
     "data": {
      "text/html": [
       "<div>\n",
       "<style scoped>\n",
       "    .dataframe tbody tr th:only-of-type {\n",
       "        vertical-align: middle;\n",
       "    }\n",
       "\n",
       "    .dataframe tbody tr th {\n",
       "        vertical-align: top;\n",
       "    }\n",
       "\n",
       "    .dataframe thead th {\n",
       "        text-align: right;\n",
       "    }\n",
       "</style>\n",
       "<table border=\"1\" class=\"dataframe\">\n",
       "  <thead>\n",
       "    <tr style=\"text-align: right;\">\n",
       "      <th></th>\n",
       "      <th>segment_id</th>\n",
       "      <th>driver_id</th>\n",
       "      <th>segment_type</th>\n",
       "      <th>order_id</th>\n",
       "      <th>segment_start_time</th>\n",
       "      <th>segment_end_time</th>\n",
       "      <th>customer_id</th>\n",
       "      <th>sector_id</th>\n",
       "      <th>planned_delivery_duration</th>\n",
       "    </tr>\n",
       "  </thead>\n",
       "  <tbody>\n",
       "    <tr>\n",
       "      <th>0</th>\n",
       "      <td>0</td>\n",
       "      <td>4</td>\n",
       "      <td>STOP</td>\n",
       "      <td>1312.0</td>\n",
       "      <td>2024-02-09 14:58:42</td>\n",
       "      <td>2024-02-09 15:01:56</td>\n",
       "      <td>149.0</td>\n",
       "      <td>1.0</td>\n",
       "      <td>175.0</td>\n",
       "    </tr>\n",
       "    <tr>\n",
       "      <th>1</th>\n",
       "      <td>1</td>\n",
       "      <td>4</td>\n",
       "      <td>DRIVE</td>\n",
       "      <td>NaN</td>\n",
       "      <td>2024-02-09 14:51:20</td>\n",
       "      <td>2024-02-09 14:55:42</td>\n",
       "      <td>NaN</td>\n",
       "      <td>NaN</td>\n",
       "      <td>NaN</td>\n",
       "    </tr>\n",
       "    <tr>\n",
       "      <th>2</th>\n",
       "      <td>2</td>\n",
       "      <td>4</td>\n",
       "      <td>STOP</td>\n",
       "      <td>1273.0</td>\n",
       "      <td>2024-02-24 09:26:31</td>\n",
       "      <td>2024-02-24 09:32:12</td>\n",
       "      <td>228.0</td>\n",
       "      <td>3.0</td>\n",
       "      <td>177.0</td>\n",
       "    </tr>\n",
       "    <tr>\n",
       "      <th>3</th>\n",
       "      <td>3</td>\n",
       "      <td>4</td>\n",
       "      <td>DRIVE</td>\n",
       "      <td>NaN</td>\n",
       "      <td>2024-02-24 09:15:02</td>\n",
       "      <td>2024-02-24 09:23:31</td>\n",
       "      <td>NaN</td>\n",
       "      <td>NaN</td>\n",
       "      <td>NaN</td>\n",
       "    </tr>\n",
       "    <tr>\n",
       "      <th>4</th>\n",
       "      <td>4</td>\n",
       "      <td>1</td>\n",
       "      <td>STOP</td>\n",
       "      <td>1036.0</td>\n",
       "      <td>2024-02-24 20:26:23</td>\n",
       "      <td>2024-02-24 20:26:23</td>\n",
       "      <td>283.0</td>\n",
       "      <td>3.0</td>\n",
       "      <td>177.0</td>\n",
       "    </tr>\n",
       "    <tr>\n",
       "      <th>...</th>\n",
       "      <td>...</td>\n",
       "      <td>...</td>\n",
       "      <td>...</td>\n",
       "      <td>...</td>\n",
       "      <td>...</td>\n",
       "      <td>...</td>\n",
       "      <td>...</td>\n",
       "      <td>...</td>\n",
       "      <td>...</td>\n",
       "    </tr>\n",
       "    <tr>\n",
       "      <th>4986</th>\n",
       "      <td>4986</td>\n",
       "      <td>4</td>\n",
       "      <td>STOP</td>\n",
       "      <td>1879.0</td>\n",
       "      <td>2024-02-20 19:16:17</td>\n",
       "      <td>2024-02-20 19:20:57</td>\n",
       "      <td>43.0</td>\n",
       "      <td>1.0</td>\n",
       "      <td>178.0</td>\n",
       "    </tr>\n",
       "    <tr>\n",
       "      <th>4987</th>\n",
       "      <td>4987</td>\n",
       "      <td>4</td>\n",
       "      <td>DRIVE</td>\n",
       "      <td>NaN</td>\n",
       "      <td>2024-02-20 19:07:52</td>\n",
       "      <td>2024-02-20 19:13:17</td>\n",
       "      <td>NaN</td>\n",
       "      <td>NaN</td>\n",
       "      <td>NaN</td>\n",
       "    </tr>\n",
       "    <tr>\n",
       "      <th>4988</th>\n",
       "      <td>4988</td>\n",
       "      <td>2</td>\n",
       "      <td>STOP</td>\n",
       "      <td>2053.0</td>\n",
       "      <td>2024-02-07 20:23:11</td>\n",
       "      <td>2024-02-07 20:25:10</td>\n",
       "      <td>129.0</td>\n",
       "      <td>3.0</td>\n",
       "      <td>180.0</td>\n",
       "    </tr>\n",
       "    <tr>\n",
       "      <th>4989</th>\n",
       "      <td>4989</td>\n",
       "      <td>2</td>\n",
       "      <td>DRIVE</td>\n",
       "      <td>NaN</td>\n",
       "      <td>2024-02-07 20:08:22</td>\n",
       "      <td>2024-02-07 20:20:11</td>\n",
       "      <td>NaN</td>\n",
       "      <td>NaN</td>\n",
       "      <td>NaN</td>\n",
       "    </tr>\n",
       "    <tr>\n",
       "      <th>4990</th>\n",
       "      <td>4990</td>\n",
       "      <td>2</td>\n",
       "      <td>STOP</td>\n",
       "      <td>NaN</td>\n",
       "      <td>2024-02-07 20:02:45</td>\n",
       "      <td>2024-02-07 20:02:45</td>\n",
       "      <td>NaN</td>\n",
       "      <td>NaN</td>\n",
       "      <td>NaN</td>\n",
       "    </tr>\n",
       "  </tbody>\n",
       "</table>\n",
       "<p>4991 rows × 9 columns</p>\n",
       "</div>"
      ],
      "text/plain": [
       "      segment_id  driver_id segment_type  order_id   segment_start_time  \\\n",
       "0              0          4         STOP    1312.0  2024-02-09 14:58:42   \n",
       "1              1          4        DRIVE       NaN  2024-02-09 14:51:20   \n",
       "2              2          4         STOP    1273.0  2024-02-24 09:26:31   \n",
       "3              3          4        DRIVE       NaN  2024-02-24 09:15:02   \n",
       "4              4          1         STOP    1036.0  2024-02-24 20:26:23   \n",
       "...          ...        ...          ...       ...                  ...   \n",
       "4986        4986          4         STOP    1879.0  2024-02-20 19:16:17   \n",
       "4987        4987          4        DRIVE       NaN  2024-02-20 19:07:52   \n",
       "4988        4988          2         STOP    2053.0  2024-02-07 20:23:11   \n",
       "4989        4989          2        DRIVE       NaN  2024-02-07 20:08:22   \n",
       "4990        4990          2         STOP       NaN  2024-02-07 20:02:45   \n",
       "\n",
       "         segment_end_time  customer_id  sector_id  planned_delivery_duration  \n",
       "0     2024-02-09 15:01:56        149.0        1.0                      175.0  \n",
       "1     2024-02-09 14:55:42          NaN        NaN                        NaN  \n",
       "2     2024-02-24 09:32:12        228.0        3.0                      177.0  \n",
       "3     2024-02-24 09:23:31          NaN        NaN                        NaN  \n",
       "4     2024-02-24 20:26:23        283.0        3.0                      177.0  \n",
       "...                   ...          ...        ...                        ...  \n",
       "4986  2024-02-20 19:20:57         43.0        1.0                      178.0  \n",
       "4987  2024-02-20 19:13:17          NaN        NaN                        NaN  \n",
       "4988  2024-02-07 20:25:10        129.0        3.0                      180.0  \n",
       "4989  2024-02-07 20:20:11          NaN        NaN                        NaN  \n",
       "4990  2024-02-07 20:02:45          NaN        NaN                        NaN  \n",
       "\n",
       "[4991 rows x 9 columns]"
      ]
     },
     "execution_count": 138,
     "metadata": {},
     "output_type": "execute_result"
    }
   ],
   "source": [
    "df_route_segments_orders"
   ]
  },
  {
   "cell_type": "markdown",
   "id": "7b6ad23f",
   "metadata": {},
   "source": [
    "We can check how many rows we have on each *segment_type*."
   ]
  },
  {
   "cell_type": "code",
   "execution_count": 139,
   "id": "cecc1479",
   "metadata": {},
   "outputs": [
    {
     "data": {
      "text/plain": [
       "2751"
      ]
     },
     "execution_count": 139,
     "metadata": {},
     "output_type": "execute_result"
    }
   ],
   "source": [
    "len(df_route_segments_orders[df_route_segments_orders['segment_type'] == 'STOP'].isna().any(axis=1))"
   ]
  },
  {
   "cell_type": "code",
   "execution_count": 140,
   "id": "c471380b",
   "metadata": {},
   "outputs": [
    {
     "data": {
      "text/plain": [
       "2240"
      ]
     },
     "execution_count": 140,
     "metadata": {},
     "output_type": "execute_result"
    }
   ],
   "source": [
    "len(df_route_segments_orders[df_route_segments_orders['segment_type'] == 'DRIVE'].isna().any(axis=1))"
   ]
  },
  {
   "cell_type": "markdown",
   "id": "fc91f9c3",
   "metadata": {},
   "source": [
    "We can see that there are several rows with missing data (marked as *NaN*). We are not supposed to make any assumptions, but it is crutial to understand this data. Segments can be described as parts of the drivers route. What interests us is the \"STOP\" segment, meaning the moment when the drivers stops in order to deliver the order to the client.\n",
    "\n",
    "The most important for us is the delivery time, so the columns *segmanet_start_time* and *segment_end_time* columns. Those are the most crutial for us to create the visualizations, so we will check if iin any of the rows we can find missing data."
   ]
  },
  {
   "cell_type": "code",
   "execution_count": 141,
   "id": "8380d4dd",
   "metadata": {},
   "outputs": [
    {
     "name": "stdout",
     "output_type": "stream",
     "text": [
      "Missing segment_start_time: 0\n",
      "Missing segment_end_time: 0\n"
     ]
    }
   ],
   "source": [
    "missing_start = df_route_segments_orders['segment_start_time'].isnull().sum()\n",
    "print(f\"Missing segment_start_time: {missing_start}\")   \n",
    "missing_end = df_route_segments_orders['segment_end_time'].isnull().sum()\n",
    "print(f\"Missing segment_end_time: {missing_end}\")"
   ]
  },
  {
   "cell_type": "markdown",
   "id": "24c9f9e0",
   "metadata": {},
   "source": [
    "In order to perform any operations on those columns we will have to change their datatype to *datetime*, which allows us to perform time operations on data."
   ]
  },
  {
   "cell_type": "code",
   "execution_count": 142,
   "id": "4d94d77a",
   "metadata": {},
   "outputs": [],
   "source": [
    "df_route_segments_orders['segment_start_time'] = pd.to_datetime(df['segment_start_time'])\n",
    "df_route_segments_orders['segment_end_time'] = pd.to_datetime(df['segment_end_time'])"
   ]
  },
  {
   "cell_type": "markdown",
   "id": "c6b29763",
   "metadata": {},
   "source": [
    "We verify whether the operation worked correctly."
   ]
  },
  {
   "cell_type": "code",
   "execution_count": 143,
   "id": "eab2fc65",
   "metadata": {},
   "outputs": [
    {
     "data": {
      "text/plain": [
       "segment_id                            int64\n",
       "driver_id                             int64\n",
       "segment_type                         object\n",
       "order_id                            float64\n",
       "segment_start_time           datetime64[ns]\n",
       "segment_end_time             datetime64[ns]\n",
       "customer_id                         float64\n",
       "sector_id                           float64\n",
       "planned_delivery_duration           float64\n",
       "dtype: object"
      ]
     },
     "execution_count": 143,
     "metadata": {},
     "output_type": "execute_result"
    }
   ],
   "source": [
    "df_route_segments_orders.dtypes"
   ]
  },
  {
   "cell_type": "markdown",
   "id": "3a722a81",
   "metadata": {},
   "source": [
    "The main objective of this task is to see how much does the actual delivery time differ from the predicted delivery time. In order to create the *actual_delivery_time* column we have to simply substract the *segment_start_time* from the *segment_end_time*. We add this column to our dataframe and round the result to the whole minutes."
   ]
  },
  {
   "cell_type": "code",
   "execution_count": 144,
   "id": "8aae44b9",
   "metadata": {},
   "outputs": [],
   "source": [
    "stops_df = df_route_segments_orders[df_route_segments_orders['segment_type'] == 'STOP'].copy()\n",
    "\n",
    "stops_df['actual_delivery_duration'] = (stops_df['segment_end_time'] - stops_df['segment_start_time']).dt.total_seconds() / 60\n",
    "stops_df['actual_delivery_duration'] = stops_df['actual_delivery_duration'].apply(lambda x: round(x))\n"
   ]
  },
  {
   "cell_type": "markdown",
   "id": "49a6886f",
   "metadata": {},
   "source": [
    "As some of the values are missing, it may raise some errors. In order to execute the code whithout them, we need to assure us that we will only be processing the non-null (not missing) data. We can see that in the original data, the predicted delivery time is given in seconds. It is not really intuitive for humans' thinking, so we will cast it to minutes."
   ]
  },
  {
   "cell_type": "code",
   "execution_count": 145,
   "id": "c1f3e420",
   "metadata": {},
   "outputs": [],
   "source": [
    "for index, row in stops_df.iterrows():\n",
    "    if pd.notnull(row['planned_delivery_duration']):\n",
    "        stops_df.at[index, 'planned_delivery_duration'] = int(round(row['planned_delivery_duration'] / 60))\n",
    "        "
   ]
  },
  {
   "cell_type": "markdown",
   "id": "5f8a57da",
   "metadata": {},
   "source": [
    "Finally, we check the structure of our data."
   ]
  },
  {
   "cell_type": "code",
   "execution_count": 146,
   "id": "fc59a35a",
   "metadata": {},
   "outputs": [
    {
     "data": {
      "text/html": [
       "<div>\n",
       "<style scoped>\n",
       "    .dataframe tbody tr th:only-of-type {\n",
       "        vertical-align: middle;\n",
       "    }\n",
       "\n",
       "    .dataframe tbody tr th {\n",
       "        vertical-align: top;\n",
       "    }\n",
       "\n",
       "    .dataframe thead th {\n",
       "        text-align: right;\n",
       "    }\n",
       "</style>\n",
       "<table border=\"1\" class=\"dataframe\">\n",
       "  <thead>\n",
       "    <tr style=\"text-align: right;\">\n",
       "      <th></th>\n",
       "      <th>segment_id</th>\n",
       "      <th>driver_id</th>\n",
       "      <th>segment_type</th>\n",
       "      <th>order_id</th>\n",
       "      <th>segment_start_time</th>\n",
       "      <th>segment_end_time</th>\n",
       "      <th>customer_id</th>\n",
       "      <th>sector_id</th>\n",
       "      <th>planned_delivery_duration</th>\n",
       "      <th>actual_delivery_duration</th>\n",
       "    </tr>\n",
       "  </thead>\n",
       "  <tbody>\n",
       "    <tr>\n",
       "      <th>0</th>\n",
       "      <td>0</td>\n",
       "      <td>4</td>\n",
       "      <td>STOP</td>\n",
       "      <td>1312.0</td>\n",
       "      <td>2024-02-09 14:58:42</td>\n",
       "      <td>2024-02-09 15:01:56</td>\n",
       "      <td>149.0</td>\n",
       "      <td>1.0</td>\n",
       "      <td>3.0</td>\n",
       "      <td>3</td>\n",
       "    </tr>\n",
       "    <tr>\n",
       "      <th>2</th>\n",
       "      <td>2</td>\n",
       "      <td>4</td>\n",
       "      <td>STOP</td>\n",
       "      <td>1273.0</td>\n",
       "      <td>2024-02-24 09:26:31</td>\n",
       "      <td>2024-02-24 09:32:12</td>\n",
       "      <td>228.0</td>\n",
       "      <td>3.0</td>\n",
       "      <td>3.0</td>\n",
       "      <td>6</td>\n",
       "    </tr>\n",
       "    <tr>\n",
       "      <th>4</th>\n",
       "      <td>4</td>\n",
       "      <td>1</td>\n",
       "      <td>STOP</td>\n",
       "      <td>1036.0</td>\n",
       "      <td>2024-02-24 20:26:23</td>\n",
       "      <td>2024-02-24 20:26:23</td>\n",
       "      <td>283.0</td>\n",
       "      <td>3.0</td>\n",
       "      <td>3.0</td>\n",
       "      <td>0</td>\n",
       "    </tr>\n",
       "    <tr>\n",
       "      <th>6</th>\n",
       "      <td>6</td>\n",
       "      <td>1</td>\n",
       "      <td>STOP</td>\n",
       "      <td>NaN</td>\n",
       "      <td>2024-02-24 20:03:27</td>\n",
       "      <td>2024-02-24 20:20:43</td>\n",
       "      <td>NaN</td>\n",
       "      <td>NaN</td>\n",
       "      <td>NaN</td>\n",
       "      <td>17</td>\n",
       "    </tr>\n",
       "    <tr>\n",
       "      <th>7</th>\n",
       "      <td>7</td>\n",
       "      <td>2</td>\n",
       "      <td>STOP</td>\n",
       "      <td>2178.0</td>\n",
       "      <td>2024-02-23 09:39:03</td>\n",
       "      <td>2024-02-23 09:40:47</td>\n",
       "      <td>234.0</td>\n",
       "      <td>3.0</td>\n",
       "      <td>3.0</td>\n",
       "      <td>2</td>\n",
       "    </tr>\n",
       "    <tr>\n",
       "      <th>...</th>\n",
       "      <td>...</td>\n",
       "      <td>...</td>\n",
       "      <td>...</td>\n",
       "      <td>...</td>\n",
       "      <td>...</td>\n",
       "      <td>...</td>\n",
       "      <td>...</td>\n",
       "      <td>...</td>\n",
       "      <td>...</td>\n",
       "      <td>...</td>\n",
       "    </tr>\n",
       "    <tr>\n",
       "      <th>4982</th>\n",
       "      <td>4982</td>\n",
       "      <td>3</td>\n",
       "      <td>STOP</td>\n",
       "      <td>564.0</td>\n",
       "      <td>2024-02-10 06:07:03</td>\n",
       "      <td>2024-02-10 06:09:20</td>\n",
       "      <td>6.0</td>\n",
       "      <td>2.0</td>\n",
       "      <td>3.0</td>\n",
       "      <td>2</td>\n",
       "    </tr>\n",
       "    <tr>\n",
       "      <th>4984</th>\n",
       "      <td>4984</td>\n",
       "      <td>4</td>\n",
       "      <td>STOP</td>\n",
       "      <td>1373.0</td>\n",
       "      <td>2024-02-20 16:08:08</td>\n",
       "      <td>2024-02-20 16:17:15</td>\n",
       "      <td>12.0</td>\n",
       "      <td>1.0</td>\n",
       "      <td>3.0</td>\n",
       "      <td>9</td>\n",
       "    </tr>\n",
       "    <tr>\n",
       "      <th>4986</th>\n",
       "      <td>4986</td>\n",
       "      <td>4</td>\n",
       "      <td>STOP</td>\n",
       "      <td>1879.0</td>\n",
       "      <td>2024-02-20 19:16:17</td>\n",
       "      <td>2024-02-20 19:20:57</td>\n",
       "      <td>43.0</td>\n",
       "      <td>1.0</td>\n",
       "      <td>3.0</td>\n",
       "      <td>5</td>\n",
       "    </tr>\n",
       "    <tr>\n",
       "      <th>4988</th>\n",
       "      <td>4988</td>\n",
       "      <td>2</td>\n",
       "      <td>STOP</td>\n",
       "      <td>2053.0</td>\n",
       "      <td>2024-02-07 20:23:11</td>\n",
       "      <td>2024-02-07 20:25:10</td>\n",
       "      <td>129.0</td>\n",
       "      <td>3.0</td>\n",
       "      <td>3.0</td>\n",
       "      <td>2</td>\n",
       "    </tr>\n",
       "    <tr>\n",
       "      <th>4990</th>\n",
       "      <td>4990</td>\n",
       "      <td>2</td>\n",
       "      <td>STOP</td>\n",
       "      <td>NaN</td>\n",
       "      <td>2024-02-07 20:02:45</td>\n",
       "      <td>2024-02-07 20:02:45</td>\n",
       "      <td>NaN</td>\n",
       "      <td>NaN</td>\n",
       "      <td>NaN</td>\n",
       "      <td>0</td>\n",
       "    </tr>\n",
       "  </tbody>\n",
       "</table>\n",
       "<p>2751 rows × 10 columns</p>\n",
       "</div>"
      ],
      "text/plain": [
       "      segment_id  driver_id segment_type  order_id  segment_start_time  \\\n",
       "0              0          4         STOP    1312.0 2024-02-09 14:58:42   \n",
       "2              2          4         STOP    1273.0 2024-02-24 09:26:31   \n",
       "4              4          1         STOP    1036.0 2024-02-24 20:26:23   \n",
       "6              6          1         STOP       NaN 2024-02-24 20:03:27   \n",
       "7              7          2         STOP    2178.0 2024-02-23 09:39:03   \n",
       "...          ...        ...          ...       ...                 ...   \n",
       "4982        4982          3         STOP     564.0 2024-02-10 06:07:03   \n",
       "4984        4984          4         STOP    1373.0 2024-02-20 16:08:08   \n",
       "4986        4986          4         STOP    1879.0 2024-02-20 19:16:17   \n",
       "4988        4988          2         STOP    2053.0 2024-02-07 20:23:11   \n",
       "4990        4990          2         STOP       NaN 2024-02-07 20:02:45   \n",
       "\n",
       "        segment_end_time  customer_id  sector_id  planned_delivery_duration  \\\n",
       "0    2024-02-09 15:01:56        149.0        1.0                        3.0   \n",
       "2    2024-02-24 09:32:12        228.0        3.0                        3.0   \n",
       "4    2024-02-24 20:26:23        283.0        3.0                        3.0   \n",
       "6    2024-02-24 20:20:43          NaN        NaN                        NaN   \n",
       "7    2024-02-23 09:40:47        234.0        3.0                        3.0   \n",
       "...                  ...          ...        ...                        ...   \n",
       "4982 2024-02-10 06:09:20          6.0        2.0                        3.0   \n",
       "4984 2024-02-20 16:17:15         12.0        1.0                        3.0   \n",
       "4986 2024-02-20 19:20:57         43.0        1.0                        3.0   \n",
       "4988 2024-02-07 20:25:10        129.0        3.0                        3.0   \n",
       "4990 2024-02-07 20:02:45          NaN        NaN                        NaN   \n",
       "\n",
       "      actual_delivery_duration  \n",
       "0                            3  \n",
       "2                            6  \n",
       "4                            0  \n",
       "6                           17  \n",
       "7                            2  \n",
       "...                        ...  \n",
       "4982                         2  \n",
       "4984                         9  \n",
       "4986                         5  \n",
       "4988                         2  \n",
       "4990                         0  \n",
       "\n",
       "[2751 rows x 10 columns]"
      ]
     },
     "execution_count": 146,
     "metadata": {},
     "output_type": "execute_result"
    }
   ],
   "source": [
    "stops_df "
   ]
  },
  {
   "cell_type": "markdown",
   "id": "7243c185",
   "metadata": {},
   "source": [
    "## Visualizations"
   ]
  },
  {
   "cell_type": "markdown",
   "id": "1281c3d8",
   "metadata": {},
   "source": [
    "#### 1. Histogram of the actual delivery time (1-minute granularity)"
   ]
  },
  {
   "cell_type": "markdown",
   "id": "51c0ab40",
   "metadata": {},
   "source": [
    "As the actual delivery time has already been calculated, we can now simply visualize the results."
   ]
  },
  {
   "cell_type": "code",
   "execution_count": 147,
   "id": "b58e04f8",
   "metadata": {},
   "outputs": [
    {
     "data": {
      "image/png": "[encoded data removed]",
      "text/plain": [
       "<Figure size 1000x600 with 1 Axes>"
      ]
     },
     "metadata": {},
     "output_type": "display_data"
    }
   ],
   "source": [
    "plt.figure(figsize=(10, 6))\n",
    "plt.hist(stops_df['actual_delivery_duration'], bins=range(0, int(stops_df['actual_delivery_duration'].max()) + 2), edgecolor='black')\n",
    "plt.title('Histogram of Actual Delivery Time')\n",
    "plt.xlabel('Actual Delivery Time (minutes)')\n",
    "plt.ylabel('Number of Deliveries')\n",
    "plt.tight_layout()\n",
    "plt.show()"
   ]
  },
  {
   "cell_type": "markdown",
   "id": "391fbe5c",
   "metadata": {},
   "source": [
    "In order to visualize the dominant data in more accesible way, we can limit the x-axis to show values only from -20 to 20."
   ]
  },
  {
   "cell_type": "code",
   "execution_count": 210,
   "id": "ec18454c",
   "metadata": {},
   "outputs": [
    {
     "data": {
      "image/png": "[encoded data removed]",
      "text/plain": [
       "<Figure size 1000x600 with 1 Axes>"
      ]
     },
     "metadata": {},
     "output_type": "display_data"
    }
   ],
   "source": [
    "plt.figure(figsize=(10, 6))\n",
    "plt.hist(stops_df['actual_delivery_duration'], bins=range(0, int(stops_df['actual_delivery_duration'].max()) + 2), edgecolor='black')\n",
    "plt.title('Histogram of Actual Delivery Time')\n",
    "plt.xlabel('Actual Delivery Time (minutes)')\n",
    "plt.ylabel('Number of Deliveries')\n",
    "plt.xlim(0, 30)\n",
    "plt.tight_layout()\n",
    "plt.show()"
   ]
  },
  {
   "cell_type": "markdown",
   "id": "ff6a07fb",
   "metadata": {},
   "source": [
    "We can see that there are a few outliares (values signifficantly far from the rest of the data) in our plot. \n",
    "Even though the outlier values seem veirdly inacurate, there a situations when the delivery can tale even up to 250 minutes (above 4 hours). We should not be making any asumptions then.\n",
    "\n",
    "Thankfully, most of the orders are delivered under 20 minutes, what is absolutelly normal. "
   ]
  },
  {
   "cell_type": "markdown",
   "id": "cd53ad7e",
   "metadata": {},
   "source": [
    "#### 2. Histogram of the prediction error"
   ]
  },
  {
   "cell_type": "markdown",
   "id": "83e7a918",
   "metadata": {},
   "source": [
    "Prediction error is simply the difference between the planned delivery time and actual delivery time. We just need to substract the values in the *planned_delivery_time* and *actual_delivery_time* and then visualiz them."
   ]
  },
  {
   "cell_type": "code",
   "execution_count": 148,
   "id": "54e90aa2",
   "metadata": {},
   "outputs": [
    {
     "data": {
      "image/png": "[encoded data removed]",
      "text/plain": [
       "<Figure size 1000x600 with 1 Axes>"
      ]
     },
     "metadata": {},
     "output_type": "display_data"
    }
   ],
   "source": [
    "import matplotlib.pyplot as plt\n",
    "stops_df['prediction_error'] = stops_df['actual_delivery_duration'] - stops_df['planned_delivery_duration']\n",
    "\n",
    "plt.figure(figsize=(10,6))\n",
    "plt.hist(stops_df['prediction_error'], bins=range(int(stops_df['prediction_error'].min()), \n",
    "                                                  int(stops_df['prediction_error'].max()) + 1), edgecolor='black')\n",
    "plt.title('Histogram of the prediction error')\n",
    "plt.xlabel('Prediction Error (minutes)')\n",
    "plt.ylabel('Number of Deliveries')\n",
    "plt.tight_layout()\n",
    "plt.show()"
   ]
  },
  {
   "cell_type": "markdown",
   "id": "6bfc231e",
   "metadata": {},
   "source": [
    "In case of most of the deliveries the error seems to be relatively small (oscilating from around -10 to 10 minutes). Even though we cannot speak of time as of negative values, in this case it simply means that the delivery has been delivered before the predicted time.\n",
    "\n",
    "As in the previous example, there are deliveries late by around 4 hours. These kinds of events can occure, so again, it should not be considered an error."
   ]
  },
  {
   "cell_type": "markdown",
   "id": "0929f9eb",
   "metadata": {},
   "source": [
    "However, we can print and verify the negative values, as well as values oscilating around 200 minutes."
   ]
  },
  {
   "cell_type": "code",
   "execution_count": 150,
   "id": "1ab7a2c8",
   "metadata": {},
   "outputs": [
    {
     "name": "stdout",
     "output_type": "stream",
     "text": [
      "24\n"
     ]
    },
    {
     "data": {
      "text/html": [
       "<div>\n",
       "<style scoped>\n",
       "    .dataframe tbody tr th:only-of-type {\n",
       "        vertical-align: middle;\n",
       "    }\n",
       "\n",
       "    .dataframe tbody tr th {\n",
       "        vertical-align: top;\n",
       "    }\n",
       "\n",
       "    .dataframe thead th {\n",
       "        text-align: right;\n",
       "    }\n",
       "</style>\n",
       "<table border=\"1\" class=\"dataframe\">\n",
       "  <thead>\n",
       "    <tr style=\"text-align: right;\">\n",
       "      <th></th>\n",
       "      <th>segment_id</th>\n",
       "      <th>driver_id</th>\n",
       "      <th>segment_type</th>\n",
       "      <th>order_id</th>\n",
       "      <th>segment_start_time</th>\n",
       "      <th>segment_end_time</th>\n",
       "      <th>customer_id</th>\n",
       "      <th>sector_id</th>\n",
       "      <th>planned_delivery_duration</th>\n",
       "      <th>actual_delivery_duration</th>\n",
       "      <th>prediction_error</th>\n",
       "    </tr>\n",
       "  </thead>\n",
       "  <tbody>\n",
       "    <tr>\n",
       "      <th>400</th>\n",
       "      <td>400</td>\n",
       "      <td>2</td>\n",
       "      <td>STOP</td>\n",
       "      <td>461.0</td>\n",
       "      <td>2024-02-08 15:22:20</td>\n",
       "      <td>2024-02-08 19:24:01</td>\n",
       "      <td>253.0</td>\n",
       "      <td>2.0</td>\n",
       "      <td>3.0</td>\n",
       "      <td>242</td>\n",
       "      <td>239.0</td>\n",
       "    </tr>\n",
       "    <tr>\n",
       "      <th>656</th>\n",
       "      <td>656</td>\n",
       "      <td>4</td>\n",
       "      <td>STOP</td>\n",
       "      <td>636.0</td>\n",
       "      <td>2024-02-23 04:33:08</td>\n",
       "      <td>2024-02-23 08:40:47</td>\n",
       "      <td>10.0</td>\n",
       "      <td>1.0</td>\n",
       "      <td>3.0</td>\n",
       "      <td>248</td>\n",
       "      <td>245.0</td>\n",
       "    </tr>\n",
       "    <tr>\n",
       "      <th>949</th>\n",
       "      <td>949</td>\n",
       "      <td>4</td>\n",
       "      <td>STOP</td>\n",
       "      <td>734.0</td>\n",
       "      <td>2024-02-08 02:23:51</td>\n",
       "      <td>2024-02-08 06:28:43</td>\n",
       "      <td>251.0</td>\n",
       "      <td>2.0</td>\n",
       "      <td>3.0</td>\n",
       "      <td>245</td>\n",
       "      <td>242.0</td>\n",
       "    </tr>\n",
       "    <tr>\n",
       "      <th>1055</th>\n",
       "      <td>1055</td>\n",
       "      <td>1</td>\n",
       "      <td>STOP</td>\n",
       "      <td>149.0</td>\n",
       "      <td>2024-02-02 09:01:03</td>\n",
       "      <td>2024-02-02 13:02:02</td>\n",
       "      <td>42.0</td>\n",
       "      <td>3.0</td>\n",
       "      <td>3.0</td>\n",
       "      <td>241</td>\n",
       "      <td>238.0</td>\n",
       "    </tr>\n",
       "    <tr>\n",
       "      <th>1169</th>\n",
       "      <td>1169</td>\n",
       "      <td>4</td>\n",
       "      <td>STOP</td>\n",
       "      <td>1020.0</td>\n",
       "      <td>2024-02-18 21:38:59</td>\n",
       "      <td>2024-02-19 01:41:52</td>\n",
       "      <td>64.0</td>\n",
       "      <td>2.0</td>\n",
       "      <td>3.0</td>\n",
       "      <td>243</td>\n",
       "      <td>240.0</td>\n",
       "    </tr>\n",
       "    <tr>\n",
       "      <th>1772</th>\n",
       "      <td>1772</td>\n",
       "      <td>4</td>\n",
       "      <td>STOP</td>\n",
       "      <td>7.0</td>\n",
       "      <td>2024-02-13 08:44:16</td>\n",
       "      <td>2024-02-13 12:50:03</td>\n",
       "      <td>179.0</td>\n",
       "      <td>3.0</td>\n",
       "      <td>3.0</td>\n",
       "      <td>246</td>\n",
       "      <td>243.0</td>\n",
       "    </tr>\n",
       "    <tr>\n",
       "      <th>1778</th>\n",
       "      <td>1778</td>\n",
       "      <td>4</td>\n",
       "      <td>STOP</td>\n",
       "      <td>941.0</td>\n",
       "      <td>2024-02-26 04:18:26</td>\n",
       "      <td>2024-02-26 08:22:57</td>\n",
       "      <td>48.0</td>\n",
       "      <td>1.0</td>\n",
       "      <td>3.0</td>\n",
       "      <td>245</td>\n",
       "      <td>242.0</td>\n",
       "    </tr>\n",
       "    <tr>\n",
       "      <th>1907</th>\n",
       "      <td>1907</td>\n",
       "      <td>2</td>\n",
       "      <td>STOP</td>\n",
       "      <td>1606.0</td>\n",
       "      <td>2024-02-06 16:07:11</td>\n",
       "      <td>2024-02-06 20:08:48</td>\n",
       "      <td>305.0</td>\n",
       "      <td>3.0</td>\n",
       "      <td>3.0</td>\n",
       "      <td>242</td>\n",
       "      <td>239.0</td>\n",
       "    </tr>\n",
       "    <tr>\n",
       "      <th>1919</th>\n",
       "      <td>1919</td>\n",
       "      <td>2</td>\n",
       "      <td>STOP</td>\n",
       "      <td>1356.0</td>\n",
       "      <td>2024-02-15 07:18:48</td>\n",
       "      <td>2024-02-15 11:20:51</td>\n",
       "      <td>293.0</td>\n",
       "      <td>1.0</td>\n",
       "      <td>3.0</td>\n",
       "      <td>242</td>\n",
       "      <td>239.0</td>\n",
       "    </tr>\n",
       "    <tr>\n",
       "      <th>1964</th>\n",
       "      <td>1964</td>\n",
       "      <td>4</td>\n",
       "      <td>STOP</td>\n",
       "      <td>1182.0</td>\n",
       "      <td>2024-02-04 16:33:00</td>\n",
       "      <td>2024-02-04 20:35:18</td>\n",
       "      <td>104.0</td>\n",
       "      <td>2.0</td>\n",
       "      <td>3.0</td>\n",
       "      <td>242</td>\n",
       "      <td>239.0</td>\n",
       "    </tr>\n",
       "    <tr>\n",
       "      <th>2192</th>\n",
       "      <td>2192</td>\n",
       "      <td>2</td>\n",
       "      <td>STOP</td>\n",
       "      <td>1500.0</td>\n",
       "      <td>2024-02-13 21:47:35</td>\n",
       "      <td>2024-02-14 01:49:11</td>\n",
       "      <td>224.0</td>\n",
       "      <td>3.0</td>\n",
       "      <td>3.0</td>\n",
       "      <td>242</td>\n",
       "      <td>239.0</td>\n",
       "    </tr>\n",
       "    <tr>\n",
       "      <th>2248</th>\n",
       "      <td>2248</td>\n",
       "      <td>2</td>\n",
       "      <td>STOP</td>\n",
       "      <td>1398.0</td>\n",
       "      <td>2024-02-27 21:40:58</td>\n",
       "      <td>2024-02-28 01:42:17</td>\n",
       "      <td>131.0</td>\n",
       "      <td>3.0</td>\n",
       "      <td>3.0</td>\n",
       "      <td>241</td>\n",
       "      <td>238.0</td>\n",
       "    </tr>\n",
       "    <tr>\n",
       "      <th>2370</th>\n",
       "      <td>2370</td>\n",
       "      <td>1</td>\n",
       "      <td>STOP</td>\n",
       "      <td>2215.0</td>\n",
       "      <td>2024-02-23 14:59:04</td>\n",
       "      <td>2024-02-23 19:00:13</td>\n",
       "      <td>172.0</td>\n",
       "      <td>3.0</td>\n",
       "      <td>3.0</td>\n",
       "      <td>241</td>\n",
       "      <td>238.0</td>\n",
       "    </tr>\n",
       "    <tr>\n",
       "      <th>2686</th>\n",
       "      <td>2686</td>\n",
       "      <td>1</td>\n",
       "      <td>STOP</td>\n",
       "      <td>1151.0</td>\n",
       "      <td>2024-02-03 08:30:21</td>\n",
       "      <td>2024-02-03 12:31:28</td>\n",
       "      <td>91.0</td>\n",
       "      <td>3.0</td>\n",
       "      <td>3.0</td>\n",
       "      <td>241</td>\n",
       "      <td>238.0</td>\n",
       "    </tr>\n",
       "    <tr>\n",
       "      <th>2775</th>\n",
       "      <td>2775</td>\n",
       "      <td>3</td>\n",
       "      <td>STOP</td>\n",
       "      <td>79.0</td>\n",
       "      <td>2024-02-05 05:30:27</td>\n",
       "      <td>2024-02-05 09:32:55</td>\n",
       "      <td>97.0</td>\n",
       "      <td>2.0</td>\n",
       "      <td>3.0</td>\n",
       "      <td>242</td>\n",
       "      <td>239.0</td>\n",
       "    </tr>\n",
       "    <tr>\n",
       "      <th>2786</th>\n",
       "      <td>2786</td>\n",
       "      <td>3</td>\n",
       "      <td>STOP</td>\n",
       "      <td>233.0</td>\n",
       "      <td>2024-02-08 14:41:29</td>\n",
       "      <td>2024-02-08 18:45:12</td>\n",
       "      <td>97.0</td>\n",
       "      <td>1.0</td>\n",
       "      <td>3.0</td>\n",
       "      <td>244</td>\n",
       "      <td>241.0</td>\n",
       "    </tr>\n",
       "    <tr>\n",
       "      <th>3114</th>\n",
       "      <td>3114</td>\n",
       "      <td>1</td>\n",
       "      <td>STOP</td>\n",
       "      <td>2018.0</td>\n",
       "      <td>2024-02-16 09:05:58</td>\n",
       "      <td>2024-02-16 13:07:03</td>\n",
       "      <td>142.0</td>\n",
       "      <td>2.0</td>\n",
       "      <td>3.0</td>\n",
       "      <td>241</td>\n",
       "      <td>238.0</td>\n",
       "    </tr>\n",
       "    <tr>\n",
       "      <th>3207</th>\n",
       "      <td>3207</td>\n",
       "      <td>4</td>\n",
       "      <td>STOP</td>\n",
       "      <td>977.0</td>\n",
       "      <td>2024-02-21 08:41:35</td>\n",
       "      <td>2024-02-21 12:50:38</td>\n",
       "      <td>111.0</td>\n",
       "      <td>1.0</td>\n",
       "      <td>3.0</td>\n",
       "      <td>249</td>\n",
       "      <td>246.0</td>\n",
       "    </tr>\n",
       "    <tr>\n",
       "      <th>3348</th>\n",
       "      <td>3348</td>\n",
       "      <td>2</td>\n",
       "      <td>STOP</td>\n",
       "      <td>1834.0</td>\n",
       "      <td>2024-02-12 15:31:35</td>\n",
       "      <td>2024-02-12 19:33:48</td>\n",
       "      <td>66.0</td>\n",
       "      <td>2.0</td>\n",
       "      <td>3.0</td>\n",
       "      <td>242</td>\n",
       "      <td>239.0</td>\n",
       "    </tr>\n",
       "    <tr>\n",
       "      <th>3883</th>\n",
       "      <td>3883</td>\n",
       "      <td>3</td>\n",
       "      <td>STOP</td>\n",
       "      <td>1720.0</td>\n",
       "      <td>2024-02-06 09:05:13</td>\n",
       "      <td>2024-02-06 13:10:51</td>\n",
       "      <td>312.0</td>\n",
       "      <td>1.0</td>\n",
       "      <td>3.0</td>\n",
       "      <td>246</td>\n",
       "      <td>243.0</td>\n",
       "    </tr>\n",
       "    <tr>\n",
       "      <th>4139</th>\n",
       "      <td>4139</td>\n",
       "      <td>3</td>\n",
       "      <td>STOP</td>\n",
       "      <td>1565.0</td>\n",
       "      <td>2024-02-02 07:30:34</td>\n",
       "      <td>2024-02-02 11:32:25</td>\n",
       "      <td>229.0</td>\n",
       "      <td>2.0</td>\n",
       "      <td>3.0</td>\n",
       "      <td>242</td>\n",
       "      <td>239.0</td>\n",
       "    </tr>\n",
       "    <tr>\n",
       "      <th>4191</th>\n",
       "      <td>4191</td>\n",
       "      <td>1</td>\n",
       "      <td>STOP</td>\n",
       "      <td>60.0</td>\n",
       "      <td>2024-02-07 20:05:25</td>\n",
       "      <td>2024-02-08 00:06:20</td>\n",
       "      <td>98.0</td>\n",
       "      <td>3.0</td>\n",
       "      <td>3.0</td>\n",
       "      <td>241</td>\n",
       "      <td>238.0</td>\n",
       "    </tr>\n",
       "    <tr>\n",
       "      <th>4797</th>\n",
       "      <td>4797</td>\n",
       "      <td>1</td>\n",
       "      <td>STOP</td>\n",
       "      <td>1687.0</td>\n",
       "      <td>2024-02-14 15:58:56</td>\n",
       "      <td>2024-02-14 19:59:41</td>\n",
       "      <td>128.0</td>\n",
       "      <td>2.0</td>\n",
       "      <td>3.0</td>\n",
       "      <td>241</td>\n",
       "      <td>238.0</td>\n",
       "    </tr>\n",
       "    <tr>\n",
       "      <th>4936</th>\n",
       "      <td>4936</td>\n",
       "      <td>2</td>\n",
       "      <td>STOP</td>\n",
       "      <td>2079.0</td>\n",
       "      <td>2024-02-04 19:21:52</td>\n",
       "      <td>2024-02-04 23:24:19</td>\n",
       "      <td>310.0</td>\n",
       "      <td>3.0</td>\n",
       "      <td>3.0</td>\n",
       "      <td>242</td>\n",
       "      <td>239.0</td>\n",
       "    </tr>\n",
       "  </tbody>\n",
       "</table>\n",
       "</div>"
      ],
      "text/plain": [
       "      segment_id  driver_id segment_type  order_id  segment_start_time  \\\n",
       "400          400          2         STOP     461.0 2024-02-08 15:22:20   \n",
       "656          656          4         STOP     636.0 2024-02-23 04:33:08   \n",
       "949          949          4         STOP     734.0 2024-02-08 02:23:51   \n",
       "1055        1055          1         STOP     149.0 2024-02-02 09:01:03   \n",
       "1169        1169          4         STOP    1020.0 2024-02-18 21:38:59   \n",
       "1772        1772          4         STOP       7.0 2024-02-13 08:44:16   \n",
       "1778        1778          4         STOP     941.0 2024-02-26 04:18:26   \n",
       "1907        1907          2         STOP    1606.0 2024-02-06 16:07:11   \n",
       "1919        1919          2         STOP    1356.0 2024-02-15 07:18:48   \n",
       "1964        1964          4         STOP    1182.0 2024-02-04 16:33:00   \n",
       "2192        2192          2         STOP    1500.0 2024-02-13 21:47:35   \n",
       "2248        2248          2         STOP    1398.0 2024-02-27 21:40:58   \n",
       "2370        2370          1         STOP    2215.0 2024-02-23 14:59:04   \n",
       "2686        2686          1         STOP    1151.0 2024-02-03 08:30:21   \n",
       "2775        2775          3         STOP      79.0 2024-02-05 05:30:27   \n",
       "2786        2786          3         STOP     233.0 2024-02-08 14:41:29   \n",
       "3114        3114          1         STOP    2018.0 2024-02-16 09:05:58   \n",
       "3207        3207          4         STOP     977.0 2024-02-21 08:41:35   \n",
       "3348        3348          2         STOP    1834.0 2024-02-12 15:31:35   \n",
       "3883        3883          3         STOP    1720.0 2024-02-06 09:05:13   \n",
       "4139        4139          3         STOP    1565.0 2024-02-02 07:30:34   \n",
       "4191        4191          1         STOP      60.0 2024-02-07 20:05:25   \n",
       "4797        4797          1         STOP    1687.0 2024-02-14 15:58:56   \n",
       "4936        4936          2         STOP    2079.0 2024-02-04 19:21:52   \n",
       "\n",
       "        segment_end_time  customer_id  sector_id  planned_delivery_duration  \\\n",
       "400  2024-02-08 19:24:01        253.0        2.0                        3.0   \n",
       "656  2024-02-23 08:40:47         10.0        1.0                        3.0   \n",
       "949  2024-02-08 06:28:43        251.0        2.0                        3.0   \n",
       "1055 2024-02-02 13:02:02         42.0        3.0                        3.0   \n",
       "1169 2024-02-19 01:41:52         64.0        2.0                        3.0   \n",
       "1772 2024-02-13 12:50:03        179.0        3.0                        3.0   \n",
       "1778 2024-02-26 08:22:57         48.0        1.0                        3.0   \n",
       "1907 2024-02-06 20:08:48        305.0        3.0                        3.0   \n",
       "1919 2024-02-15 11:20:51        293.0        1.0                        3.0   \n",
       "1964 2024-02-04 20:35:18        104.0        2.0                        3.0   \n",
       "2192 2024-02-14 01:49:11        224.0        3.0                        3.0   \n",
       "2248 2024-02-28 01:42:17        131.0        3.0                        3.0   \n",
       "2370 2024-02-23 19:00:13        172.0        3.0                        3.0   \n",
       "2686 2024-02-03 12:31:28         91.0        3.0                        3.0   \n",
       "2775 2024-02-05 09:32:55         97.0        2.0                        3.0   \n",
       "2786 2024-02-08 18:45:12         97.0        1.0                        3.0   \n",
       "3114 2024-02-16 13:07:03        142.0        2.0                        3.0   \n",
       "3207 2024-02-21 12:50:38        111.0        1.0                        3.0   \n",
       "3348 2024-02-12 19:33:48         66.0        2.0                        3.0   \n",
       "3883 2024-02-06 13:10:51        312.0        1.0                        3.0   \n",
       "4139 2024-02-02 11:32:25        229.0        2.0                        3.0   \n",
       "4191 2024-02-08 00:06:20         98.0        3.0                        3.0   \n",
       "4797 2024-02-14 19:59:41        128.0        2.0                        3.0   \n",
       "4936 2024-02-04 23:24:19        310.0        3.0                        3.0   \n",
       "\n",
       "      actual_delivery_duration  prediction_error  \n",
       "400                        242             239.0  \n",
       "656                        248             245.0  \n",
       "949                        245             242.0  \n",
       "1055                       241             238.0  \n",
       "1169                       243             240.0  \n",
       "1772                       246             243.0  \n",
       "1778                       245             242.0  \n",
       "1907                       242             239.0  \n",
       "1919                       242             239.0  \n",
       "1964                       242             239.0  \n",
       "2192                       242             239.0  \n",
       "2248                       241             238.0  \n",
       "2370                       241             238.0  \n",
       "2686                       241             238.0  \n",
       "2775                       242             239.0  \n",
       "2786                       244             241.0  \n",
       "3114                       241             238.0  \n",
       "3207                       249             246.0  \n",
       "3348                       242             239.0  \n",
       "3883                       246             243.0  \n",
       "4139                       242             239.0  \n",
       "4191                       241             238.0  \n",
       "4797                       241             238.0  \n",
       "4936                       242             239.0  "
      ]
     },
     "execution_count": 150,
     "metadata": {},
     "output_type": "execute_result"
    }
   ],
   "source": [
    "print(len(stops_df[stops_df['prediction_error'] > 200]))\n",
    "stops_df[stops_df['prediction_error'] > 200]"
   ]
  },
  {
   "cell_type": "code",
   "execution_count": 151,
   "id": "36c36afe",
   "metadata": {},
   "outputs": [
    {
     "data": {
      "text/html": [
       "<div>\n",
       "<style scoped>\n",
       "    .dataframe tbody tr th:only-of-type {\n",
       "        vertical-align: middle;\n",
       "    }\n",
       "\n",
       "    .dataframe tbody tr th {\n",
       "        vertical-align: top;\n",
       "    }\n",
       "\n",
       "    .dataframe thead th {\n",
       "        text-align: right;\n",
       "    }\n",
       "</style>\n",
       "<table border=\"1\" class=\"dataframe\">\n",
       "  <thead>\n",
       "    <tr style=\"text-align: right;\">\n",
       "      <th></th>\n",
       "      <th>segment_id</th>\n",
       "      <th>driver_id</th>\n",
       "      <th>segment_type</th>\n",
       "      <th>order_id</th>\n",
       "      <th>segment_start_time</th>\n",
       "      <th>segment_end_time</th>\n",
       "      <th>customer_id</th>\n",
       "      <th>sector_id</th>\n",
       "      <th>planned_delivery_duration</th>\n",
       "      <th>actual_delivery_duration</th>\n",
       "      <th>prediction_error</th>\n",
       "    </tr>\n",
       "  </thead>\n",
       "  <tbody>\n",
       "    <tr>\n",
       "      <th>4</th>\n",
       "      <td>4</td>\n",
       "      <td>1</td>\n",
       "      <td>STOP</td>\n",
       "      <td>1036.0</td>\n",
       "      <td>2024-02-24 20:26:23</td>\n",
       "      <td>2024-02-24 20:26:23</td>\n",
       "      <td>283.0</td>\n",
       "      <td>3.0</td>\n",
       "      <td>3.0</td>\n",
       "      <td>0</td>\n",
       "      <td>-3.0</td>\n",
       "    </tr>\n",
       "    <tr>\n",
       "      <th>7</th>\n",
       "      <td>7</td>\n",
       "      <td>2</td>\n",
       "      <td>STOP</td>\n",
       "      <td>2178.0</td>\n",
       "      <td>2024-02-23 09:39:03</td>\n",
       "      <td>2024-02-23 09:40:47</td>\n",
       "      <td>234.0</td>\n",
       "      <td>3.0</td>\n",
       "      <td>3.0</td>\n",
       "      <td>2</td>\n",
       "      <td>-1.0</td>\n",
       "    </tr>\n",
       "    <tr>\n",
       "      <th>12</th>\n",
       "      <td>12</td>\n",
       "      <td>1</td>\n",
       "      <td>STOP</td>\n",
       "      <td>2221.0</td>\n",
       "      <td>2024-02-16 04:37:40</td>\n",
       "      <td>2024-02-16 04:40:06</td>\n",
       "      <td>284.0</td>\n",
       "      <td>1.0</td>\n",
       "      <td>3.0</td>\n",
       "      <td>2</td>\n",
       "      <td>-1.0</td>\n",
       "    </tr>\n",
       "    <tr>\n",
       "      <th>17</th>\n",
       "      <td>17</td>\n",
       "      <td>2</td>\n",
       "      <td>STOP</td>\n",
       "      <td>1469.0</td>\n",
       "      <td>2024-02-02 07:06:35</td>\n",
       "      <td>2024-02-02 07:06:35</td>\n",
       "      <td>122.0</td>\n",
       "      <td>3.0</td>\n",
       "      <td>3.0</td>\n",
       "      <td>0</td>\n",
       "      <td>-3.0</td>\n",
       "    </tr>\n",
       "    <tr>\n",
       "      <th>19</th>\n",
       "      <td>19</td>\n",
       "      <td>2</td>\n",
       "      <td>STOP</td>\n",
       "      <td>1461.0</td>\n",
       "      <td>2024-02-02 21:06:43</td>\n",
       "      <td>2024-02-02 21:08:58</td>\n",
       "      <td>211.0</td>\n",
       "      <td>3.0</td>\n",
       "      <td>3.0</td>\n",
       "      <td>2</td>\n",
       "      <td>-1.0</td>\n",
       "    </tr>\n",
       "    <tr>\n",
       "      <th>...</th>\n",
       "      <td>...</td>\n",
       "      <td>...</td>\n",
       "      <td>...</td>\n",
       "      <td>...</td>\n",
       "      <td>...</td>\n",
       "      <td>...</td>\n",
       "      <td>...</td>\n",
       "      <td>...</td>\n",
       "      <td>...</td>\n",
       "      <td>...</td>\n",
       "      <td>...</td>\n",
       "    </tr>\n",
       "    <tr>\n",
       "      <th>4969</th>\n",
       "      <td>4969</td>\n",
       "      <td>3</td>\n",
       "      <td>STOP</td>\n",
       "      <td>572.0</td>\n",
       "      <td>2024-02-19 19:47:28</td>\n",
       "      <td>2024-02-19 19:49:57</td>\n",
       "      <td>11.0</td>\n",
       "      <td>2.0</td>\n",
       "      <td>3.0</td>\n",
       "      <td>2</td>\n",
       "      <td>-1.0</td>\n",
       "    </tr>\n",
       "    <tr>\n",
       "      <th>4972</th>\n",
       "      <td>4972</td>\n",
       "      <td>1</td>\n",
       "      <td>STOP</td>\n",
       "      <td>1950.0</td>\n",
       "      <td>2024-02-18 18:31:46</td>\n",
       "      <td>2024-02-18 18:32:46</td>\n",
       "      <td>187.0</td>\n",
       "      <td>1.0</td>\n",
       "      <td>3.0</td>\n",
       "      <td>1</td>\n",
       "      <td>-2.0</td>\n",
       "    </tr>\n",
       "    <tr>\n",
       "      <th>4978</th>\n",
       "      <td>4978</td>\n",
       "      <td>2</td>\n",
       "      <td>STOP</td>\n",
       "      <td>252.0</td>\n",
       "      <td>2024-02-23 04:22:17</td>\n",
       "      <td>2024-02-23 04:24:46</td>\n",
       "      <td>167.0</td>\n",
       "      <td>3.0</td>\n",
       "      <td>3.0</td>\n",
       "      <td>2</td>\n",
       "      <td>-1.0</td>\n",
       "    </tr>\n",
       "    <tr>\n",
       "      <th>4982</th>\n",
       "      <td>4982</td>\n",
       "      <td>3</td>\n",
       "      <td>STOP</td>\n",
       "      <td>564.0</td>\n",
       "      <td>2024-02-10 06:07:03</td>\n",
       "      <td>2024-02-10 06:09:20</td>\n",
       "      <td>6.0</td>\n",
       "      <td>2.0</td>\n",
       "      <td>3.0</td>\n",
       "      <td>2</td>\n",
       "      <td>-1.0</td>\n",
       "    </tr>\n",
       "    <tr>\n",
       "      <th>4988</th>\n",
       "      <td>4988</td>\n",
       "      <td>2</td>\n",
       "      <td>STOP</td>\n",
       "      <td>2053.0</td>\n",
       "      <td>2024-02-07 20:23:11</td>\n",
       "      <td>2024-02-07 20:25:10</td>\n",
       "      <td>129.0</td>\n",
       "      <td>3.0</td>\n",
       "      <td>3.0</td>\n",
       "      <td>2</td>\n",
       "      <td>-1.0</td>\n",
       "    </tr>\n",
       "  </tbody>\n",
       "</table>\n",
       "<p>1163 rows × 11 columns</p>\n",
       "</div>"
      ],
      "text/plain": [
       "      segment_id  driver_id segment_type  order_id  segment_start_time  \\\n",
       "4              4          1         STOP    1036.0 2024-02-24 20:26:23   \n",
       "7              7          2         STOP    2178.0 2024-02-23 09:39:03   \n",
       "12            12          1         STOP    2221.0 2024-02-16 04:37:40   \n",
       "17            17          2         STOP    1469.0 2024-02-02 07:06:35   \n",
       "19            19          2         STOP    1461.0 2024-02-02 21:06:43   \n",
       "...          ...        ...          ...       ...                 ...   \n",
       "4969        4969          3         STOP     572.0 2024-02-19 19:47:28   \n",
       "4972        4972          1         STOP    1950.0 2024-02-18 18:31:46   \n",
       "4978        4978          2         STOP     252.0 2024-02-23 04:22:17   \n",
       "4982        4982          3         STOP     564.0 2024-02-10 06:07:03   \n",
       "4988        4988          2         STOP    2053.0 2024-02-07 20:23:11   \n",
       "\n",
       "        segment_end_time  customer_id  sector_id  planned_delivery_duration  \\\n",
       "4    2024-02-24 20:26:23        283.0        3.0                        3.0   \n",
       "7    2024-02-23 09:40:47        234.0        3.0                        3.0   \n",
       "12   2024-02-16 04:40:06        284.0        1.0                        3.0   \n",
       "17   2024-02-02 07:06:35        122.0        3.0                        3.0   \n",
       "19   2024-02-02 21:08:58        211.0        3.0                        3.0   \n",
       "...                  ...          ...        ...                        ...   \n",
       "4969 2024-02-19 19:49:57         11.0        2.0                        3.0   \n",
       "4972 2024-02-18 18:32:46        187.0        1.0                        3.0   \n",
       "4978 2024-02-23 04:24:46        167.0        3.0                        3.0   \n",
       "4982 2024-02-10 06:09:20          6.0        2.0                        3.0   \n",
       "4988 2024-02-07 20:25:10        129.0        3.0                        3.0   \n",
       "\n",
       "      actual_delivery_duration  prediction_error  \n",
       "4                            0              -3.0  \n",
       "7                            2              -1.0  \n",
       "12                           2              -1.0  \n",
       "17                           0              -3.0  \n",
       "19                           2              -1.0  \n",
       "...                        ...               ...  \n",
       "4969                         2              -1.0  \n",
       "4972                         1              -2.0  \n",
       "4978                         2              -1.0  \n",
       "4982                         2              -1.0  \n",
       "4988                         2              -1.0  \n",
       "\n",
       "[1163 rows x 11 columns]"
      ]
     },
     "execution_count": 151,
     "metadata": {},
     "output_type": "execute_result"
    }
   ],
   "source": [
    "# print the rows where the error is smaller than \n",
    "stops_df[stops_df['prediction_error'] < 0]"
   ]
  },
  {
   "cell_type": "markdown",
   "id": "6bb15d4c",
   "metadata": {},
   "source": [
    "Again, in order to visualize the dominant data in more accesible way, we can limit the x-axis to show values only from -20 to 20."
   ]
  },
  {
   "cell_type": "code",
   "execution_count": 152,
   "id": "48c88cfc",
   "metadata": {},
   "outputs": [
    {
     "data": {
      "image/png": "[encoded data removed]",
      "text/plain": [
       "<Figure size 1000x600 with 1 Axes>"
      ]
     },
     "metadata": {},
     "output_type": "display_data"
    }
   ],
   "source": [
    "plt.figure(figsize=(10,6))\n",
    "plt.hist(stops_df[stops_df['prediction_error'] < 20]['prediction_error'], \n",
    "         bins=range(int(stops_df['prediction_error'].min()), \n",
    "                    int(stops_df['prediction_error'].max()) + 1), edgecolor='black')\n",
    "plt.title('Histogram of the prediction error (less than 20 min)')\n",
    "plt.xlabel('Prediction Error (minutes)')\n",
    "plt.ylabel('Number of Deliveries')\n",
    "plt.xlim(-20, 20)\n",
    "plt.tight_layout()"
   ]
  },
  {
   "cell_type": "markdown",
   "id": "c83d8f72",
   "metadata": {},
   "source": [
    "Now it can be clearly seen that most orders are delivered in time or more or less 10 minutes after the predicted delivery time. Some of them arrive even before predicted."
   ]
  },
  {
   "cell_type": "markdown",
   "id": "cf91be9b",
   "metadata": {},
   "source": [
    "### 3. Average delivery time between sectors "
   ]
  },
  {
   "cell_type": "markdown",
   "id": "46942651",
   "metadata": {},
   "source": [
    "Drivers state that delivering in one of the sectors is significantly longer than in other sectors. We can create a barplot that will show us the average delivery time in order to check this hipotesis.\n",
    "\n",
    "In order to do that we need to group the data and calculate the average delivery time in every sector."
   ]
  },
  {
   "cell_type": "code",
   "execution_count": 153,
   "id": "1012fe64",
   "metadata": {},
   "outputs": [
    {
     "data": {
      "image/png": "[encoded data removed]",
      "text/plain": [
       "<Figure size 1000x600 with 1 Axes>"
      ]
     },
     "metadata": {},
     "output_type": "display_data"
    }
   ],
   "source": [
    "sector_delivery_time = stops_df.groupby('sector_id')['actual_delivery_duration'].mean().sort_values()\n",
    "\n",
    "plt.figure(figsize=(10,6))\n",
    "sector_delivery_time.plot(kind='bar', edgecolor='black')\n",
    "plt.title('Average Delivery Time by Sector')\n",
    "plt.xlabel('Sector ID')\n",
    "plt.ylabel('Average Delivery Time (minutes)')\n",
    "plt.tight_layout()\n",
    "plt.show()"
   ]
  },
  {
   "cell_type": "markdown",
   "id": "ee122f7a",
   "metadata": {},
   "source": [
    "It is true that the average delivery time in the third sector seems to take longer than in the other two. However, I would not call it the *signifficant difference*, as the diagram shows that the time difference is less than 1-minute.  "
   ]
  },
  {
   "cell_type": "markdown",
   "id": "9a261a6b",
   "metadata": {},
   "source": [
    "### 4. Additional analysis"
   ]
  },
  {
   "cell_type": "markdown",
   "id": "125db747",
   "metadata": {},
   "source": [
    "#### 4.1. Delivery time according to drivers"
   ]
  },
  {
   "cell_type": "markdown",
   "id": "d830b48c",
   "metadata": {},
   "source": [
    "We cheked the delivery duration among sectors, so the logical thing would be to do the same among drivers."
   ]
  },
  {
   "cell_type": "code",
   "execution_count": 158,
   "id": "b8b70cab",
   "metadata": {},
   "outputs": [
    {
     "data": {
      "image/png": "[encoded data removed]",
      "text/plain": [
       "<Figure size 1000x600 with 1 Axes>"
      ]
     },
     "metadata": {},
     "output_type": "display_data"
    }
   ],
   "source": [
    "# Średni czas dostawy w różnych sektorach\n",
    "driver_delivery_time = stops_df.groupby('driver_id')['actual_delivery_duration'].mean().sort_values()\n",
    "\n",
    "# Wykres porównujący czas dostawy na sektorach\n",
    "plt.figure(figsize=(10,6))\n",
    "driver_delivery_time.plot(kind='bar', edgecolor='black')\n",
    "plt.title('Average delivery time by driver')\n",
    "plt.xlabel('Driver ID')\n",
    "plt.ylabel('Average delivery time (minutes)')\n",
    "plt.tight_layout()\n",
    "plt.show()"
   ]
  },
  {
   "cell_type": "markdown",
   "id": "be5a004f",
   "metadata": {},
   "source": [
    "Now we can see that the driver with *driver_id* 4 needs significantly more time to deliver the orders."
   ]
  },
  {
   "cell_type": "markdown",
   "id": "160c7caf",
   "metadata": {},
   "source": [
    "#### 4.2. Average delivery time per sector and per driver"
   ]
  },
  {
   "cell_type": "code",
   "execution_count": null,
   "id": "99abba44",
   "metadata": {},
   "outputs": [
    {
     "data": {
      "image/png": "[encoded data removed]",
      "text/plain": [
       "<Figure size 1000x600 with 1 Axes>"
      ]
     },
     "metadata": {},
     "output_type": "display_data"
    },
    {
     "data": {
      "image/png": "[encoded data removed]",
      "text/plain": [
       "<Figure size 1000x600 with 1 Axes>"
      ]
     },
     "metadata": {},
     "output_type": "display_data"
    },
    {
     "data": {
      "image/png": "[encoded data removed]",
      "text/plain": [
       "<Figure size 1000x600 with 1 Axes>"
      ]
     },
     "metadata": {},
     "output_type": "display_data"
    },
    {
     "data": {
      "image/png": "[encoded data removed]",
      "text/plain": [
       "<Figure size 1000x600 with 1 Axes>"
      ]
     },
     "metadata": {},
     "output_type": "display_data"
    }
   ],
   "source": [
    "for driver_id in sorted(stops_df['driver_id'].unique()):\n",
    "    driver_data = stops_df[stops_df['driver_id'] == driver_id]\n",
    "    sector_delivery_time = driver_data.groupby('sector_id')['actual_delivery_duration'].mean().sort_index()\n",
    "\n",
    "    plt.figure(figsize=(10,6))\n",
    "    sector_delivery_time.plot(kind='bar', edgecolor='black')\n",
    "    plt.title(f'Average Delivery Time by Sector for Driver {driver_id}')\n",
    "    plt.xlabel('Sector ID')\n",
    "    plt.ylabel('Average Delivery Time (minutes)')\n",
    "    plt.tight_layout()\n",
    "    plt.show()"
   ]
  },
  {
   "cell_type": "markdown",
   "id": "17d98fbf",
   "metadata": {},
   "source": [
    "Further analysis shows that taking into account the delivery time, the only stable sector is the second one.\n",
    "\n",
    "Drivers 1 and 2 need significanly more time to deliver in sector 3, whereas drivers 3 and 4 need take more time in sector 1."
   ]
  },
  {
   "cell_type": "markdown",
   "id": "c248200a",
   "metadata": {},
   "source": [
    "#### 4.3. Average delivery time vs order weight"
   ]
  },
  {
   "cell_type": "markdown",
   "id": "0dcbb09f",
   "metadata": {},
   "source": [
    "In order to perform this and some other analysis we will need information about total order weight and total cuantity of ordered products. We will aggregate the data in order to retrive this info.\n",
    "\n",
    "I devided the data according to the following:\n",
    "- orders of *total_weight* < 2kg are considered small\n",
    "- those between 2kg and 5kg are considers medium\n",
    "- orders above 5kg are considered large"
   ]
  },
  {
   "cell_type": "code",
   "execution_count": 166,
   "id": "f73ff577",
   "metadata": {},
   "outputs": [],
   "source": [
    "df_orders_products['total_weight'] = df_orders_products['quantity'] * df_products['weight']\n",
    "\n",
    "agg_weights = df_orders_products.groupby('order_id').agg(\n",
    "    total_weight=('total_weight', 'sum'),\n",
    "    total_quantity=('quantity', 'sum')\n",
    ").reset_index()\n",
    "\n",
    "stops_df = stops_df.merge(agg_weights, on='order_id', how='left')"
   ]
  },
  {
   "cell_type": "code",
   "execution_count": 173,
   "id": "2c64f6e2",
   "metadata": {},
   "outputs": [
    {
     "name": "stderr",
     "output_type": "stream",
     "text": [
      "C:\\Users\\48726\\AppData\\Local\\Temp\\ipykernel_25932\\4241163019.py:17: FutureWarning: The default of observed=False is deprecated and will be changed to True in a future version of pandas. Pass observed=False to retain current behavior or observed=True to adopt the future default and silence this warning.\n",
      "  size_avg = stops_df.groupby('order_size')['actual_delivery_duration'].mean().reset_index()\n"
     ]
    },
    {
     "data": {
      "image/png": "[encoded data removed]",
      "text/plain": [
       "<Figure size 800x500 with 1 Axes>"
      ]
     },
     "metadata": {},
     "output_type": "display_data"
    }
   ],
   "source": [
    "def categorize_order(row):\n",
    "    if row['total_weight'] < 2000:\n",
    "        return 'Small'\n",
    "    elif row['total_weight'] < 5000:\n",
    "        return 'Medium'\n",
    "    else:\n",
    "        return 'Large'\n",
    "\n",
    "stops_df['order_size'] = stops_df.apply(categorize_order, axis=1)\n",
    "\n",
    "stops_df['order_size'] = pd.Categorical(\n",
    "    stops_df['order_size'],\n",
    "    categories=['Small', 'Medium', 'Large'],\n",
    "    ordered=True\n",
    ")\n",
    "\n",
    "size_avg = stops_df.groupby('order_size')['actual_delivery_duration'].mean().reset_index()\n",
    "\n",
    "plt.figure(figsize=(8, 5))\n",
    "sns.barplot(data=size_avg, x='order_size', y='actual_delivery_duration', order=['Small', 'Medium', 'Large'], edgecolor='black')\n",
    "plt.title('Average Delivery Time by Order Weight Category')\n",
    "plt.xlabel('Order Size')\n",
    "plt.ylabel('Average Delivery Time (minutes)')\n",
    "plt.tight_layout()\n",
    "plt.show()\n"
   ]
  },
  {
   "cell_type": "markdown",
   "id": "effb225d",
   "metadata": {},
   "source": [
    "We can clearly see that large orders take signifficantly more time to be delivered. However, it does not mean that small orders would take littlest time to be delivered, because they take more time than the medium ones.\n",
    "\n",
    "It might mean that the order weight does not really influence the delivery time, at least when it comes to small and medium orders."
   ]
  },
  {
   "cell_type": "markdown",
   "id": "36144e81",
   "metadata": {},
   "source": [
    "Other thing we can check is the correlation between delivery time and order weight, visualizing this data on a scatterplot."
   ]
  },
  {
   "cell_type": "code",
   "execution_count": 180,
   "id": "a1529992",
   "metadata": {},
   "outputs": [
    {
     "data": {
      "image/png": "[encoded data removed]",
      "text/plain": [
       "<Figure size 800x600 with 1 Axes>"
      ]
     },
     "metadata": {},
     "output_type": "display_data"
    }
   ],
   "source": [
    "import seaborn as sns\n",
    "import matplotlib.pyplot as plt\n",
    "\n",
    "plt.figure(figsize=(8, 6))\n",
    "sns.scatterplot(\n",
    "    data=stops_df,\n",
    "    x='total_weight',\n",
    "    y='actual_delivery_duration',\n",
    "    alpha=0.6\n",
    ")\n",
    "plt.title('Relationship Between Order Weight and Delivery Time')\n",
    "plt.xlabel('Total Weight (grams)')\n",
    "plt.ylabel('Actual Delivery Duration (minutes)')\n",
    "plt.tight_layout()\n",
    "plt.show()\n"
   ]
  },
  {
   "cell_type": "markdown",
   "id": "09d1b480",
   "metadata": {},
   "source": [
    "#### 4.4. Average delivery time during the week"
   ]
  },
  {
   "cell_type": "markdown",
   "id": "4adcc38b",
   "metadata": {},
   "source": [
    "In order to visualize this correlation, we need to extract the day of the week from the *segment_start_time* and then cast the data to the actual days' names."
   ]
  },
  {
   "cell_type": "code",
   "execution_count": 171,
   "id": "f1074f67",
   "metadata": {},
   "outputs": [
    {
     "data": {
      "image/png": "[encoded data removed]",
      "text/plain": [
       "<Figure size 1000x500 with 1 Axes>"
      ]
     },
     "metadata": {},
     "output_type": "display_data"
    }
   ],
   "source": [
    "stops_df['weekday'] = stops_df['segment_start_time'].dt.day_name()\n",
    "\n",
    "weekday_avg = stops_df.groupby('weekday')['actual_delivery_duration'].mean().reindex([\n",
    "    'Monday', 'Tuesday', 'Wednesday', 'Thursday', 'Friday', 'Saturday', 'Sunday'\n",
    "]).reset_index()\n",
    "\n",
    "plt.figure(figsize=(10, 5))\n",
    "sns.barplot(data=weekday_avg, x='weekday', y='actual_delivery_duration', edgecolor='black')\n",
    "plt.title('Average Delivery Time by Weekday')\n",
    "plt.xlabel('Weekday')\n",
    "plt.ylabel('Average Delivery Time (minutes)')\n",
    "plt.tight_layout()\n",
    "plt.show()\n"
   ]
  },
  {
   "cell_type": "markdown",
   "id": "23a5ec01",
   "metadata": {},
   "source": [
    "Even though the duration times seems to be the longest on Tuesdays, there are no reasons to assume that the day of the week affects the delivery time."
   ]
  },
  {
   "cell_type": "markdown",
   "id": "36fc6504",
   "metadata": {},
   "source": [
    "#### 4.5. Delivery time vs product quantity"
   ]
  },
  {
   "cell_type": "code",
   "execution_count": null,
   "id": "b7a46b14",
   "metadata": {},
   "outputs": [
    {
     "data": {
      "image/png": "[encoded data removed]",
      "text/plain": [
       "<Figure size 1000x500 with 1 Axes>"
      ]
     },
     "metadata": {},
     "output_type": "display_data"
    }
   ],
   "source": [
    "product_avg = stops_df.groupby('total_quantity')['actual_delivery_duration'].mean().reset_index()\n",
    "\n",
    "plt.figure(figsize=(10, 5))\n",
    "sns.lineplot(data=product_avg, x='total_quantity', y='actual_delivery_duration', marker='o')\n",
    "plt.title('Average Delivery Time by Number of Products')\n",
    "plt.xlabel('Total Quantity of Products')\n",
    "plt.ylabel('Average Delivery Time (minutes)')\n",
    "plt.tight_layout()\n",
    "plt.show()\n"
   ]
  },
  {
   "cell_type": "markdown",
   "id": "4d0f10f4",
   "metadata": {},
   "source": [
    "We can tell that there is no signifficant correlation between the delivery time and the quantity of products."
   ]
  },
  {
   "cell_type": "markdown",
   "id": "06ba5665",
   "metadata": {},
   "source": [
    "#### 4.6. Correlation Matrix"
   ]
  },
  {
   "cell_type": "markdown",
   "id": "e09eee4c",
   "metadata": {},
   "source": [
    "As the last part of the analysis we can plot the correlation matrix, taking into account all the features analysed before. \n",
    "\n",
    "In order to do that, we have to map the day of the week back to the numerical values and then select all the necessary columns (*actual_delivery_duration*, *driver_id*, *total_weight*, *total_quantity*, *sector_id*, *weekday*). It will also be necessary to drop the rows containig empty values."
   ]
  },
  {
   "cell_type": "code",
   "execution_count": null,
   "id": "9dbb09d2",
   "metadata": {},
   "outputs": [],
   "source": [
    "import seaborn as sns\n",
    "import matplotlib.pyplot as plt\n",
    "\n",
    "weekday_mapping = {\n",
    "    'Monday': 0, \n",
    "    'Tuesday': 1,\n",
    "    'Wednesday': 2, \n",
    "    'Thursday': 3, \n",
    "    'Friday': 4,\n",
    "    'Saturday': 5, \n",
    "    'Sunday': 6\n",
    "}\n",
    "\n",
    "stops_df['weekday'] = stops_df['weekday'].map(weekday_mapping)\n",
    "\n",
    "features = stops_df[[\n",
    "    'actual_delivery_duration',\n",
    "    'driver_id',\n",
    "    'total_weight',\n",
    "    'total_quantity',\n",
    "    'sector_id',\n",
    "    'weekday',\n",
    "]].dropna() \n"
   ]
  },
  {
   "cell_type": "code",
   "execution_count": null,
   "id": "ebfdd66e",
   "metadata": {},
   "outputs": [
    {
     "data": {
      "image/png": "[encoded data removed]",
      "text/plain": [
       "<Figure size 1000x600 with 2 Axes>"
      ]
     },
     "metadata": {},
     "output_type": "display_data"
    }
   ],
   "source": [
    "corr_matrix = features.corr()\n",
    "\n",
    "plt.figure(figsize=(10, 6))\n",
    "sns.heatmap(corr_matrix, annot=True, cmap='coolwarm', fmt='.2f', linewidths=0.5)\n",
    "plt.title('Correlation Matrix: Delivery Duration vs Features')\n",
    "plt.show()"
   ]
  },
  {
   "cell_type": "markdown",
   "id": "d1ac1aac",
   "metadata": {},
   "source": [
    "We can tell that when it comes to individual features, none of theme influences the delivery time. Probably there are a lot of factors influencing the delivery time all together, meaning that more complex models should be defined. \n",
    "\n",
    "To extract more detailed analysis, for instance principal component analysis could be performed."
   ]
  },
  {
   "cell_type": "markdown",
   "id": "381e1473",
   "metadata": {},
   "source": [
    "## Conclusion"
   ]
  },
  {
   "cell_type": "markdown",
   "id": "ae0cd90c",
   "metadata": {},
   "source": [
    "**Prediction Accuracy:**  \n",
    "The current prediction system, based on averages, is fairly accurate for most deliveries, with most predictions falling within ±10 minutes of the actual delivery time. However, there are outliers, indicating that the system could be improved by accounting for more variables.\n",
    "\n",
    "**Sector Analysis:**  \n",
    "While sector 3 had a slightly longer average delivery time, the difference was minimal and not statistically significant.\n",
    "\n",
    "**Driver Variability:**  \n",
    "Driver 4 consistently took longer for deliveries, which may suggest the need for driver-specific adjustments to prediction models.\n",
    "\n",
    "**Order Weight and Size:**  \n",
    "Larger orders do take longer to deliver, but small orders may not always be delivered the fastest. This suggests that other factors, such as delivery route or traffic conditions, could also play significant roles.\n",
    "\n",
    "**Potential for Improvement:**  \n",
    "The data does not show a strong, consistent correlation between delivery time and individual features, meaning more complex models considering multiple factors simultaneously could improve prediction accuracy.\n",
    "\n",
    "This analysis suggests that while the current system works in general, refining the algorithm by considering multiple influencing factors could help reduce prediction errors and improve overall efficiency."
   ]
  },
  {
   "cell_type": "markdown",
   "id": "05c189fd",
   "metadata": {},
   "source": []
  }
 ],
 "metadata": {
  "kernelspec": {
   "display_name": "Python 3",
   "language": "python",
   "name": "python3"
  },
  "language_info": {
   "codemirror_mode": {
    "name": "ipython",
    "version": 3
   },
   "file_extension": ".py",
   "mimetype": "text/x-python",
   "name": "python",
   "nbconvert_exporter": "python",
   "pygments_lexer": "ipython3",
   "version": "3.12.9"
  }
 },
 "nbformat": 4,
 "nbformat_minor": 5
}
